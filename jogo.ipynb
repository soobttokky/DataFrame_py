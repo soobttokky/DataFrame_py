{
  "nbformat": 4,
  "nbformat_minor": 0,
  "metadata": {
    "colab": {
      "provenance": [],
      "include_colab_link": true
    },
    "kernelspec": {
      "name": "python3",
      "display_name": "Python 3"
    },
    "language_info": {
      "name": "python"
    }
  },
  "cells": [
    {
      "cell_type": "markdown",
      "metadata": {
        "id": "view-in-github",
        "colab_type": "text"
      },
      "source": [
        "<a href=\"https://colab.research.google.com/github/soobttokky/DataFrame_py/blob/main/jogo.ipynb\" target=\"_parent\"><img src=\"https://colab.research.google.com/assets/colab-badge.svg\" alt=\"Open In Colab\"/></a>"
      ]
    },
    {
      "cell_type": "markdown",
      "source": [
        "Atividade Avaliativa A1 - 5,0pts\n",
        "\n",
        " - Nome: William Cavalcante da Silva\n",
        "\n",
        " - RGM: 1434383212\n",
        "\n",
        " - Tema: 10 jogos mais importantes da Historia do Basquete\n",
        "\n",
        " FONTES E LINKS:\n",
        "\n",
        " - https://www.nba.com/stats\n",
        "\n",
        " - https://www.nba.com/stats/alltime?SeasonType=Regular+Season\n",
        "\n",
        " - Curso Intensivo de Python: Uma introdução prática e baseada em projetos à programação, Eric Matthes:\n",
        "Disponívem em Português: https://edisciplinas.usp.br/pluginfile.php/6585696/mod_resource/content/1/Eric%20Matthes%20-%20Curso%20Intensivo%20de%20Python-Novatec%20%282016%29.pdf\n",
        "\n",
        "- https://pandas.pydata.org/docs/"
      ],
      "metadata": {
        "id": "dWrG04ukDTSg"
      }
    },
    {
      "cell_type": "code",
      "source": [
        "import pandas as pd #--> importando a biblioteca pandas\n",
        "\n",
        "#Criação de listas com os dados informados\n",
        "GameDate = ['14/06/1998', '19/06/2016', '14/05/1980', '08/06/1986', '05/05/1969', '04/06/1976', '31/05/2002', '20/06/2013', '18/04/1962', '11/06/1997']\n",
        "#--> Data do Jogo\n",
        "AwayTeam = ['Chicago Bulls', 'Cavaliers', 'Los Angeles Lakers', 'Houston Rockets', 'Los Angeles Lakers', 'Phoenix Sun', 'Sacramento Kings', 'San Antonio Spurs', 'Los Angeles Lakers', 'Utah Jazz']\n",
        "#--> Time Visitante\n",
        "HomeTeam = ['Utah Jazz', 'Golden State Warriors', 'Philadelphia 76ers', 'Boston Celtics', 'Boston Celtics', 'Boston Celtics', 'Los Angeles Lakers', 'Miami Heats', 'Boston Celtics', 'Chicago Bulls']\n",
        "#--> Time da Casa\n",
        "AwayPts = ['87', '93', '108', '97', '105', '126', '102', '88', '107', '88']\n",
        "#--> Quantidade de Pontos do Time Visitante\n",
        "HomePts = ['86', '89', '103', '114', '99', '128', '106', '95', '110', '90']\n",
        "#--> Quantidade de Pontos do Time da Casa\n",
        "Referees = ['Dick Bavetta', 'Mike Callahan', 'Joe Forte', ' Joe Forte', 'Joe Forte', 'Richie Powers', 'Dick Bavetta', 'Dan Crawford', 'Richie Powers', 'Bill Oakes']\n",
        "#--> Árbritos, podem ser até tres, mas so estou colocando um.\n",
        "TimesTied = ['18', '11', '0', '0', '0', '0', '11', '11', '0', '7']\n",
        "#--> Quantidade de vezes em que os times estavam empatados durante o jogo\n",
        "LeadChanges = ['8', '20', '0', '0', '0', '0', '22', '7', '0', '7']\n",
        "#--> Quantidade de vezes em que o lider de placar mudou\n",
        "LastMeetingWinner = ['Chicago Bulls', 'Cavaliers', 'Los Angeles Lakers', 'Boston Celtics', 'Los Angeles Lakers', 'Boston Celtics', 'Sacramento Kings', 'Miami Heats', 'Los Angeles Lakers', 'Chicago Bulls']\n",
        "#--> Vencedor do ultimo jogo entre os dois\n",
        "Winner = ['Chicago Bulls', 'Cavaliers', 'Los Angeles Lakers', 'Boston Celtics', 'Los Angeles Lakers', 'Boston Celtics', 'Los Angeles Lakers', 'Miami Heats', 'Boston Celtics', 'Chicago Bulls']\n",
        "#--> Vencedor da Partida em questão\n",
        "\n",
        "\n",
        "#Criação de um dicionário com as listas informadas\n",
        "dados_jogos= {\n",
        "    'Data do jogo': GameDate,\n",
        "    'Vencedor': Winner,\n",
        "    'Time de Fora': AwayTeam,\n",
        "    'Time da Casa': HomeTeam,\n",
        "    'Pontos de Fora': AwayPts,\n",
        "    'Pontos da Casa': HomePts,\n",
        "    'árbitro Principal': Referees,\n",
        "    'Pontos Iguais': TimesTied,\n",
        "    'Mudançã de Liderança': LeadChanges,\n",
        "    'Ultimo Vencedor': LastMeetingWinner,\n",
        "\n",
        "}\n",
        "\n",
        "#Criação de um DataFrame com o dicionário\n",
        "jogos_df = pd.DataFrame(dados_jogos)"
      ],
      "metadata": {
        "id": "CNJR_GcSUsTN",
        "collapsed": true
      },
      "execution_count": null,
      "outputs": []
    },
    {
      "cell_type": "markdown",
      "source": [
        "\n",
        "*   Usando a biblioteca Pandas foi-se criado um DataFrame sobre os jogos mais importantes na história do Basquete.\n",
        "*   Usei listas para armazenar os dados coletados e, com as listas informadas, foi feito um dicionário, que foi utilizado para a criação do DataFrame e sua variável.\n",
        "*   Todos os dados coletados foram tirados do site oficial da NBA e as informações sobre a criação do DataFrame foram tiradas do conteúdo mestrado em sala de aula e do livro \"Curso Intensivo de Python: Uma introdução prática e baseada em projetos à programação\" do autor Eric Matthes"
      ],
      "metadata": {
        "id": "T9m9fvRMEJUs"
      }
    },
    {
      "cell_type": "markdown",
      "source": [
        "### 1 - Apresente em tela (output) toda a base de dados."
      ],
      "metadata": {
        "id": "ykfpZEDOwDwE"
      }
    },
    {
      "cell_type": "code",
      "source": [
        "print(\"1) Apresente em tela (output) toda a base de dados.\")\n",
        "#Utilizo o comando display para apresentar todos os dados do DataFrame.\n",
        "display(jogos_df)\n",
        "print()"
      ],
      "metadata": {
        "colab": {
          "base_uri": "https://localhost:8080/",
          "height": 400
        },
        "id": "cJT14aHQwDUs",
        "outputId": "363b424b-86ef-4f91-b10d-69d2cc881596"
      },
      "execution_count": null,
      "outputs": [
        {
          "output_type": "stream",
          "name": "stdout",
          "text": [
            "1) Apresente em tela (output) toda a base de dados.\n"
          ]
        },
        {
          "output_type": "display_data",
          "data": {
            "text/plain": [
              "  Data do jogo            Vencedor        Time de Fora           Time da Casa  \\\n",
              "0   14/06/1998       Chicago Bulls       Chicago Bulls              Utah Jazz   \n",
              "1   19/06/2016           Cavaliers           Cavaliers  Golden State Warriors   \n",
              "2   14/05/1980  Los Angeles Lakers  Los Angeles Lakers     Philadelphia 76ers   \n",
              "3   08/06/1986      Boston Celtics     Houston Rockets         Boston Celtics   \n",
              "4   05/05/1969  Los Angeles Lakers  Los Angeles Lakers         Boston Celtics   \n",
              "5   04/06/1976      Boston Celtics         Phoenix Sun         Boston Celtics   \n",
              "6   31/05/2002  Los Angeles Lakers    Sacramento Kings     Los Angeles Lakers   \n",
              "7   20/06/2013         Miami Heats   San Antonio Spurs            Miami Heats   \n",
              "8   18/04/1962      Boston Celtics  Los Angeles Lakers         Boston Celtics   \n",
              "9   11/06/1997       Chicago Bulls           Utah Jazz          Chicago Bulls   \n",
              "\n",
              "  Pontos de Fora Pontos da Casa árbitro Principal Pontos Iguais  \\\n",
              "0             87             86      Dick Bavetta            18   \n",
              "1             93             89     Mike Callahan            11   \n",
              "2            108            103         Joe Forte             0   \n",
              "3             97            114         Joe Forte             0   \n",
              "4            105             99         Joe Forte             0   \n",
              "5            126            128     Richie Powers             0   \n",
              "6            102            106      Dick Bavetta            11   \n",
              "7             88             95      Dan Crawford            11   \n",
              "8            107            110     Richie Powers             0   \n",
              "9             88             90        Bill Oakes             7   \n",
              "\n",
              "  Mudançã de Liderança     Ultimo Vencedor  \n",
              "0                    8       Chicago Bulls  \n",
              "1                   20           Cavaliers  \n",
              "2                    0  Los Angeles Lakers  \n",
              "3                    0      Boston Celtics  \n",
              "4                    0  Los Angeles Lakers  \n",
              "5                    0      Boston Celtics  \n",
              "6                   22    Sacramento Kings  \n",
              "7                    7         Miami Heats  \n",
              "8                    0  Los Angeles Lakers  \n",
              "9                    7       Chicago Bulls  "
            ],
            "text/html": [
              "\n",
              "  <div id=\"df-070ced48-8368-40d4-90a6-ccf58c90aad3\" class=\"colab-df-container\">\n",
              "    <div>\n",
              "<style scoped>\n",
              "    .dataframe tbody tr th:only-of-type {\n",
              "        vertical-align: middle;\n",
              "    }\n",
              "\n",
              "    .dataframe tbody tr th {\n",
              "        vertical-align: top;\n",
              "    }\n",
              "\n",
              "    .dataframe thead th {\n",
              "        text-align: right;\n",
              "    }\n",
              "</style>\n",
              "<table border=\"1\" class=\"dataframe\">\n",
              "  <thead>\n",
              "    <tr style=\"text-align: right;\">\n",
              "      <th></th>\n",
              "      <th>Data do jogo</th>\n",
              "      <th>Vencedor</th>\n",
              "      <th>Time de Fora</th>\n",
              "      <th>Time da Casa</th>\n",
              "      <th>Pontos de Fora</th>\n",
              "      <th>Pontos da Casa</th>\n",
              "      <th>árbitro Principal</th>\n",
              "      <th>Pontos Iguais</th>\n",
              "      <th>Mudançã de Liderança</th>\n",
              "      <th>Ultimo Vencedor</th>\n",
              "    </tr>\n",
              "  </thead>\n",
              "  <tbody>\n",
              "    <tr>\n",
              "      <th>0</th>\n",
              "      <td>14/06/1998</td>\n",
              "      <td>Chicago Bulls</td>\n",
              "      <td>Chicago Bulls</td>\n",
              "      <td>Utah Jazz</td>\n",
              "      <td>87</td>\n",
              "      <td>86</td>\n",
              "      <td>Dick Bavetta</td>\n",
              "      <td>18</td>\n",
              "      <td>8</td>\n",
              "      <td>Chicago Bulls</td>\n",
              "    </tr>\n",
              "    <tr>\n",
              "      <th>1</th>\n",
              "      <td>19/06/2016</td>\n",
              "      <td>Cavaliers</td>\n",
              "      <td>Cavaliers</td>\n",
              "      <td>Golden State Warriors</td>\n",
              "      <td>93</td>\n",
              "      <td>89</td>\n",
              "      <td>Mike Callahan</td>\n",
              "      <td>11</td>\n",
              "      <td>20</td>\n",
              "      <td>Cavaliers</td>\n",
              "    </tr>\n",
              "    <tr>\n",
              "      <th>2</th>\n",
              "      <td>14/05/1980</td>\n",
              "      <td>Los Angeles Lakers</td>\n",
              "      <td>Los Angeles Lakers</td>\n",
              "      <td>Philadelphia 76ers</td>\n",
              "      <td>108</td>\n",
              "      <td>103</td>\n",
              "      <td>Joe Forte</td>\n",
              "      <td>0</td>\n",
              "      <td>0</td>\n",
              "      <td>Los Angeles Lakers</td>\n",
              "    </tr>\n",
              "    <tr>\n",
              "      <th>3</th>\n",
              "      <td>08/06/1986</td>\n",
              "      <td>Boston Celtics</td>\n",
              "      <td>Houston Rockets</td>\n",
              "      <td>Boston Celtics</td>\n",
              "      <td>97</td>\n",
              "      <td>114</td>\n",
              "      <td>Joe Forte</td>\n",
              "      <td>0</td>\n",
              "      <td>0</td>\n",
              "      <td>Boston Celtics</td>\n",
              "    </tr>\n",
              "    <tr>\n",
              "      <th>4</th>\n",
              "      <td>05/05/1969</td>\n",
              "      <td>Los Angeles Lakers</td>\n",
              "      <td>Los Angeles Lakers</td>\n",
              "      <td>Boston Celtics</td>\n",
              "      <td>105</td>\n",
              "      <td>99</td>\n",
              "      <td>Joe Forte</td>\n",
              "      <td>0</td>\n",
              "      <td>0</td>\n",
              "      <td>Los Angeles Lakers</td>\n",
              "    </tr>\n",
              "    <tr>\n",
              "      <th>5</th>\n",
              "      <td>04/06/1976</td>\n",
              "      <td>Boston Celtics</td>\n",
              "      <td>Phoenix Sun</td>\n",
              "      <td>Boston Celtics</td>\n",
              "      <td>126</td>\n",
              "      <td>128</td>\n",
              "      <td>Richie Powers</td>\n",
              "      <td>0</td>\n",
              "      <td>0</td>\n",
              "      <td>Boston Celtics</td>\n",
              "    </tr>\n",
              "    <tr>\n",
              "      <th>6</th>\n",
              "      <td>31/05/2002</td>\n",
              "      <td>Los Angeles Lakers</td>\n",
              "      <td>Sacramento Kings</td>\n",
              "      <td>Los Angeles Lakers</td>\n",
              "      <td>102</td>\n",
              "      <td>106</td>\n",
              "      <td>Dick Bavetta</td>\n",
              "      <td>11</td>\n",
              "      <td>22</td>\n",
              "      <td>Sacramento Kings</td>\n",
              "    </tr>\n",
              "    <tr>\n",
              "      <th>7</th>\n",
              "      <td>20/06/2013</td>\n",
              "      <td>Miami Heats</td>\n",
              "      <td>San Antonio Spurs</td>\n",
              "      <td>Miami Heats</td>\n",
              "      <td>88</td>\n",
              "      <td>95</td>\n",
              "      <td>Dan Crawford</td>\n",
              "      <td>11</td>\n",
              "      <td>7</td>\n",
              "      <td>Miami Heats</td>\n",
              "    </tr>\n",
              "    <tr>\n",
              "      <th>8</th>\n",
              "      <td>18/04/1962</td>\n",
              "      <td>Boston Celtics</td>\n",
              "      <td>Los Angeles Lakers</td>\n",
              "      <td>Boston Celtics</td>\n",
              "      <td>107</td>\n",
              "      <td>110</td>\n",
              "      <td>Richie Powers</td>\n",
              "      <td>0</td>\n",
              "      <td>0</td>\n",
              "      <td>Los Angeles Lakers</td>\n",
              "    </tr>\n",
              "    <tr>\n",
              "      <th>9</th>\n",
              "      <td>11/06/1997</td>\n",
              "      <td>Chicago Bulls</td>\n",
              "      <td>Utah Jazz</td>\n",
              "      <td>Chicago Bulls</td>\n",
              "      <td>88</td>\n",
              "      <td>90</td>\n",
              "      <td>Bill Oakes</td>\n",
              "      <td>7</td>\n",
              "      <td>7</td>\n",
              "      <td>Chicago Bulls</td>\n",
              "    </tr>\n",
              "  </tbody>\n",
              "</table>\n",
              "</div>\n",
              "    <div class=\"colab-df-buttons\">\n",
              "\n",
              "  <div class=\"colab-df-container\">\n",
              "    <button class=\"colab-df-convert\" onclick=\"convertToInteractive('df-070ced48-8368-40d4-90a6-ccf58c90aad3')\"\n",
              "            title=\"Convert this dataframe to an interactive table.\"\n",
              "            style=\"display:none;\">\n",
              "\n",
              "  <svg xmlns=\"http://www.w3.org/2000/svg\" height=\"24px\" viewBox=\"0 -960 960 960\">\n",
              "    <path d=\"M120-120v-720h720v720H120Zm60-500h600v-160H180v160Zm220 220h160v-160H400v160Zm0 220h160v-160H400v160ZM180-400h160v-160H180v160Zm440 0h160v-160H620v160ZM180-180h160v-160H180v160Zm440 0h160v-160H620v160Z\"/>\n",
              "  </svg>\n",
              "    </button>\n",
              "\n",
              "  <style>\n",
              "    .colab-df-container {\n",
              "      display:flex;\n",
              "      gap: 12px;\n",
              "    }\n",
              "\n",
              "    .colab-df-convert {\n",
              "      background-color: #E8F0FE;\n",
              "      border: none;\n",
              "      border-radius: 50%;\n",
              "      cursor: pointer;\n",
              "      display: none;\n",
              "      fill: #1967D2;\n",
              "      height: 32px;\n",
              "      padding: 0 0 0 0;\n",
              "      width: 32px;\n",
              "    }\n",
              "\n",
              "    .colab-df-convert:hover {\n",
              "      background-color: #E2EBFA;\n",
              "      box-shadow: 0px 1px 2px rgba(60, 64, 67, 0.3), 0px 1px 3px 1px rgba(60, 64, 67, 0.15);\n",
              "      fill: #174EA6;\n",
              "    }\n",
              "\n",
              "    .colab-df-buttons div {\n",
              "      margin-bottom: 4px;\n",
              "    }\n",
              "\n",
              "    [theme=dark] .colab-df-convert {\n",
              "      background-color: #3B4455;\n",
              "      fill: #D2E3FC;\n",
              "    }\n",
              "\n",
              "    [theme=dark] .colab-df-convert:hover {\n",
              "      background-color: #434B5C;\n",
              "      box-shadow: 0px 1px 3px 1px rgba(0, 0, 0, 0.15);\n",
              "      filter: drop-shadow(0px 1px 2px rgba(0, 0, 0, 0.3));\n",
              "      fill: #FFFFFF;\n",
              "    }\n",
              "  </style>\n",
              "\n",
              "    <script>\n",
              "      const buttonEl =\n",
              "        document.querySelector('#df-070ced48-8368-40d4-90a6-ccf58c90aad3 button.colab-df-convert');\n",
              "      buttonEl.style.display =\n",
              "        google.colab.kernel.accessAllowed ? 'block' : 'none';\n",
              "\n",
              "      async function convertToInteractive(key) {\n",
              "        const element = document.querySelector('#df-070ced48-8368-40d4-90a6-ccf58c90aad3');\n",
              "        const dataTable =\n",
              "          await google.colab.kernel.invokeFunction('convertToInteractive',\n",
              "                                                    [key], {});\n",
              "        if (!dataTable) return;\n",
              "\n",
              "        const docLinkHtml = 'Like what you see? Visit the ' +\n",
              "          '<a target=\"_blank\" href=https://colab.research.google.com/notebooks/data_table.ipynb>data table notebook</a>'\n",
              "          + ' to learn more about interactive tables.';\n",
              "        element.innerHTML = '';\n",
              "        dataTable['output_type'] = 'display_data';\n",
              "        await google.colab.output.renderOutput(dataTable, element);\n",
              "        const docLink = document.createElement('div');\n",
              "        docLink.innerHTML = docLinkHtml;\n",
              "        element.appendChild(docLink);\n",
              "      }\n",
              "    </script>\n",
              "  </div>\n",
              "\n",
              "\n",
              "<div id=\"df-70145304-7922-40c5-bbff-07058cbac7df\">\n",
              "  <button class=\"colab-df-quickchart\" onclick=\"quickchart('df-70145304-7922-40c5-bbff-07058cbac7df')\"\n",
              "            title=\"Suggest charts\"\n",
              "            style=\"display:none;\">\n",
              "\n",
              "<svg xmlns=\"http://www.w3.org/2000/svg\" height=\"24px\"viewBox=\"0 0 24 24\"\n",
              "     width=\"24px\">\n",
              "    <g>\n",
              "        <path d=\"M19 3H5c-1.1 0-2 .9-2 2v14c0 1.1.9 2 2 2h14c1.1 0 2-.9 2-2V5c0-1.1-.9-2-2-2zM9 17H7v-7h2v7zm4 0h-2V7h2v10zm4 0h-2v-4h2v4z\"/>\n",
              "    </g>\n",
              "</svg>\n",
              "  </button>\n",
              "\n",
              "<style>\n",
              "  .colab-df-quickchart {\n",
              "      --bg-color: #E8F0FE;\n",
              "      --fill-color: #1967D2;\n",
              "      --hover-bg-color: #E2EBFA;\n",
              "      --hover-fill-color: #174EA6;\n",
              "      --disabled-fill-color: #AAA;\n",
              "      --disabled-bg-color: #DDD;\n",
              "  }\n",
              "\n",
              "  [theme=dark] .colab-df-quickchart {\n",
              "      --bg-color: #3B4455;\n",
              "      --fill-color: #D2E3FC;\n",
              "      --hover-bg-color: #434B5C;\n",
              "      --hover-fill-color: #FFFFFF;\n",
              "      --disabled-bg-color: #3B4455;\n",
              "      --disabled-fill-color: #666;\n",
              "  }\n",
              "\n",
              "  .colab-df-quickchart {\n",
              "    background-color: var(--bg-color);\n",
              "    border: none;\n",
              "    border-radius: 50%;\n",
              "    cursor: pointer;\n",
              "    display: none;\n",
              "    fill: var(--fill-color);\n",
              "    height: 32px;\n",
              "    padding: 0;\n",
              "    width: 32px;\n",
              "  }\n",
              "\n",
              "  .colab-df-quickchart:hover {\n",
              "    background-color: var(--hover-bg-color);\n",
              "    box-shadow: 0 1px 2px rgba(60, 64, 67, 0.3), 0 1px 3px 1px rgba(60, 64, 67, 0.15);\n",
              "    fill: var(--button-hover-fill-color);\n",
              "  }\n",
              "\n",
              "  .colab-df-quickchart-complete:disabled,\n",
              "  .colab-df-quickchart-complete:disabled:hover {\n",
              "    background-color: var(--disabled-bg-color);\n",
              "    fill: var(--disabled-fill-color);\n",
              "    box-shadow: none;\n",
              "  }\n",
              "\n",
              "  .colab-df-spinner {\n",
              "    border: 2px solid var(--fill-color);\n",
              "    border-color: transparent;\n",
              "    border-bottom-color: var(--fill-color);\n",
              "    animation:\n",
              "      spin 1s steps(1) infinite;\n",
              "  }\n",
              "\n",
              "  @keyframes spin {\n",
              "    0% {\n",
              "      border-color: transparent;\n",
              "      border-bottom-color: var(--fill-color);\n",
              "      border-left-color: var(--fill-color);\n",
              "    }\n",
              "    20% {\n",
              "      border-color: transparent;\n",
              "      border-left-color: var(--fill-color);\n",
              "      border-top-color: var(--fill-color);\n",
              "    }\n",
              "    30% {\n",
              "      border-color: transparent;\n",
              "      border-left-color: var(--fill-color);\n",
              "      border-top-color: var(--fill-color);\n",
              "      border-right-color: var(--fill-color);\n",
              "    }\n",
              "    40% {\n",
              "      border-color: transparent;\n",
              "      border-right-color: var(--fill-color);\n",
              "      border-top-color: var(--fill-color);\n",
              "    }\n",
              "    60% {\n",
              "      border-color: transparent;\n",
              "      border-right-color: var(--fill-color);\n",
              "    }\n",
              "    80% {\n",
              "      border-color: transparent;\n",
              "      border-right-color: var(--fill-color);\n",
              "      border-bottom-color: var(--fill-color);\n",
              "    }\n",
              "    90% {\n",
              "      border-color: transparent;\n",
              "      border-bottom-color: var(--fill-color);\n",
              "    }\n",
              "  }\n",
              "</style>\n",
              "\n",
              "  <script>\n",
              "    async function quickchart(key) {\n",
              "      const quickchartButtonEl =\n",
              "        document.querySelector('#' + key + ' button');\n",
              "      quickchartButtonEl.disabled = true;  // To prevent multiple clicks.\n",
              "      quickchartButtonEl.classList.add('colab-df-spinner');\n",
              "      try {\n",
              "        const charts = await google.colab.kernel.invokeFunction(\n",
              "            'suggestCharts', [key], {});\n",
              "      } catch (error) {\n",
              "        console.error('Error during call to suggestCharts:', error);\n",
              "      }\n",
              "      quickchartButtonEl.classList.remove('colab-df-spinner');\n",
              "      quickchartButtonEl.classList.add('colab-df-quickchart-complete');\n",
              "    }\n",
              "    (() => {\n",
              "      let quickchartButtonEl =\n",
              "        document.querySelector('#df-70145304-7922-40c5-bbff-07058cbac7df button');\n",
              "      quickchartButtonEl.style.display =\n",
              "        google.colab.kernel.accessAllowed ? 'block' : 'none';\n",
              "    })();\n",
              "  </script>\n",
              "</div>\n",
              "\n",
              "  <div id=\"id_952ee39a-154f-46cd-bd70-26200853020a\">\n",
              "    <style>\n",
              "      .colab-df-generate {\n",
              "        background-color: #E8F0FE;\n",
              "        border: none;\n",
              "        border-radius: 50%;\n",
              "        cursor: pointer;\n",
              "        display: none;\n",
              "        fill: #1967D2;\n",
              "        height: 32px;\n",
              "        padding: 0 0 0 0;\n",
              "        width: 32px;\n",
              "      }\n",
              "\n",
              "      .colab-df-generate:hover {\n",
              "        background-color: #E2EBFA;\n",
              "        box-shadow: 0px 1px 2px rgba(60, 64, 67, 0.3), 0px 1px 3px 1px rgba(60, 64, 67, 0.15);\n",
              "        fill: #174EA6;\n",
              "      }\n",
              "\n",
              "      [theme=dark] .colab-df-generate {\n",
              "        background-color: #3B4455;\n",
              "        fill: #D2E3FC;\n",
              "      }\n",
              "\n",
              "      [theme=dark] .colab-df-generate:hover {\n",
              "        background-color: #434B5C;\n",
              "        box-shadow: 0px 1px 3px 1px rgba(0, 0, 0, 0.15);\n",
              "        filter: drop-shadow(0px 1px 2px rgba(0, 0, 0, 0.3));\n",
              "        fill: #FFFFFF;\n",
              "      }\n",
              "    </style>\n",
              "    <button class=\"colab-df-generate\" onclick=\"generateWithVariable('jogos_df')\"\n",
              "            title=\"Generate code using this dataframe.\"\n",
              "            style=\"display:none;\">\n",
              "\n",
              "  <svg xmlns=\"http://www.w3.org/2000/svg\" height=\"24px\"viewBox=\"0 0 24 24\"\n",
              "       width=\"24px\">\n",
              "    <path d=\"M7,19H8.4L18.45,9,17,7.55,7,17.6ZM5,21V16.75L18.45,3.32a2,2,0,0,1,2.83,0l1.4,1.43a1.91,1.91,0,0,1,.58,1.4,1.91,1.91,0,0,1-.58,1.4L9.25,21ZM18.45,9,17,7.55Zm-12,3A5.31,5.31,0,0,0,4.9,8.1,5.31,5.31,0,0,0,1,6.5,5.31,5.31,0,0,0,4.9,4.9,5.31,5.31,0,0,0,6.5,1,5.31,5.31,0,0,0,8.1,4.9,5.31,5.31,0,0,0,12,6.5,5.46,5.46,0,0,0,6.5,12Z\"/>\n",
              "  </svg>\n",
              "    </button>\n",
              "    <script>\n",
              "      (() => {\n",
              "      const buttonEl =\n",
              "        document.querySelector('#id_952ee39a-154f-46cd-bd70-26200853020a button.colab-df-generate');\n",
              "      buttonEl.style.display =\n",
              "        google.colab.kernel.accessAllowed ? 'block' : 'none';\n",
              "\n",
              "      buttonEl.onclick = () => {\n",
              "        google.colab.notebook.generateWithVariable('jogos_df');\n",
              "      }\n",
              "      })();\n",
              "    </script>\n",
              "  </div>\n",
              "\n",
              "    </div>\n",
              "  </div>\n"
            ],
            "application/vnd.google.colaboratory.intrinsic+json": {
              "type": "dataframe",
              "variable_name": "jogos_df",
              "summary": "{\n  \"name\": \"jogos_df\",\n  \"rows\": 10,\n  \"fields\": [\n    {\n      \"column\": \"Data do jogo\",\n      \"properties\": {\n        \"dtype\": \"object\",\n        \"num_unique_values\": 10,\n        \"samples\": [\n          \"18/04/1962\",\n          \"19/06/2016\",\n          \"04/06/1976\"\n        ],\n        \"semantic_type\": \"\",\n        \"description\": \"\"\n      }\n    },\n    {\n      \"column\": \"Vencedor\",\n      \"properties\": {\n        \"dtype\": \"string\",\n        \"num_unique_values\": 5,\n        \"samples\": [\n          \"Cavaliers\",\n          \"Miami Heats\",\n          \"Los Angeles Lakers\"\n        ],\n        \"semantic_type\": \"\",\n        \"description\": \"\"\n      }\n    },\n    {\n      \"column\": \"Time de Fora\",\n      \"properties\": {\n        \"dtype\": \"string\",\n        \"num_unique_values\": 8,\n        \"samples\": [\n          \"Cavaliers\",\n          \"Sacramento Kings\",\n          \"Chicago Bulls\"\n        ],\n        \"semantic_type\": \"\",\n        \"description\": \"\"\n      }\n    },\n    {\n      \"column\": \"Time da Casa\",\n      \"properties\": {\n        \"dtype\": \"string\",\n        \"num_unique_values\": 7,\n        \"samples\": [\n          \"Utah Jazz\",\n          \"Golden State Warriors\",\n          \"Miami Heats\"\n        ],\n        \"semantic_type\": \"\",\n        \"description\": \"\"\n      }\n    },\n    {\n      \"column\": \"Pontos de Fora\",\n      \"properties\": {\n        \"dtype\": \"string\",\n        \"num_unique_values\": 9,\n        \"samples\": [\n          \"88\",\n          \"93\",\n          \"126\"\n        ],\n        \"semantic_type\": \"\",\n        \"description\": \"\"\n      }\n    },\n    {\n      \"column\": \"Pontos da Casa\",\n      \"properties\": {\n        \"dtype\": \"string\",\n        \"num_unique_values\": 10,\n        \"samples\": [\n          \"110\",\n          \"89\",\n          \"128\"\n        ],\n        \"semantic_type\": \"\",\n        \"description\": \"\"\n      }\n    },\n    {\n      \"column\": \"\\u00e1rbitro Principal\",\n      \"properties\": {\n        \"dtype\": \"string\",\n        \"num_unique_values\": 7,\n        \"samples\": [\n          \"Dick Bavetta\",\n          \"Mike Callahan\",\n          \"Dan Crawford\"\n        ],\n        \"semantic_type\": \"\",\n        \"description\": \"\"\n      }\n    },\n    {\n      \"column\": \"Pontos Iguais\",\n      \"properties\": {\n        \"dtype\": \"category\",\n        \"num_unique_values\": 4,\n        \"samples\": [\n          \"11\",\n          \"7\",\n          \"18\"\n        ],\n        \"semantic_type\": \"\",\n        \"description\": \"\"\n      }\n    },\n    {\n      \"column\": \"Mudan\\u00e7\\u00e3 de Lideran\\u00e7a\",\n      \"properties\": {\n        \"dtype\": \"string\",\n        \"num_unique_values\": 5,\n        \"samples\": [\n          \"20\",\n          \"7\",\n          \"0\"\n        ],\n        \"semantic_type\": \"\",\n        \"description\": \"\"\n      }\n    },\n    {\n      \"column\": \"Ultimo Vencedor\",\n      \"properties\": {\n        \"dtype\": \"string\",\n        \"num_unique_values\": 6,\n        \"samples\": [\n          \"Chicago Bulls\",\n          \"Cavaliers\",\n          \"Miami Heats\"\n        ],\n        \"semantic_type\": \"\",\n        \"description\": \"\"\n      }\n    }\n  ]\n}"
            }
          },
          "metadata": {}
        },
        {
          "output_type": "stream",
          "name": "stdout",
          "text": [
            "\n"
          ]
        }
      ]
    },
    {
      "cell_type": "markdown",
      "source": [
        "### Explicando o Código"
      ],
      "metadata": {
        "id": "1EhsO88e2BGC"
      }
    },
    {
      "cell_type": "markdown",
      "source": [
        "1.  Criação de um Dicionário:\n",
        "\n",
        "Um dicionário data é criado com chaves representando as colunas e valores como listas de dados para cada coluna.\n",
        "*  ```Data do Jogo ```: Lista o dia, mês e ano em que aconteceram o jogo.\n",
        "*  ```Vencedores ```: Lista os Vencedores do jogo.\n",
        "*  ```Time de Fora ```: Lista com o nome dos times que não estão em sua cidade.\n",
        "*  ```Time da Casa ```: Lista com o nome dos times que estão em sua cidade.\n",
        "*  ```Pontos de Fora ```: Lista quantos pontos o time de fora fez durante o jogo.\n",
        "*  ```Pontos da Casa ```: Lista quantos pontos o time da casa fez durante o jogo.\n",
        "*  ```Árbitro Principal ```: Lista os nomes dos principais árbitros presentes durante o jogo.\n",
        "*  ```Pontos Iguais ```: Lista quantas vezes os times tiveram pontuações iguais durante o jogo.\n",
        "*  ```Mudança de Liderança ```: Lista quantas vezes o time que estava em liderança durante o jogo.\n",
        "*  ```Ultimo Vencedor ```: Lista o vencedor do ultimo jogo atual entre os dois times."
      ],
      "metadata": {
        "id": "Mq-UUhMR2MUY"
      }
    },
    {
      "cell_type": "markdown",
      "source": [
        "2. Criação do DataFrame\n",
        "\n",
        "* O dicionário dados_streaming é passado para o construtor  ```pd.DataFrame() ``` para criar um DataFrame chamado  ```jogos_df ```."
      ],
      "metadata": {
        "id": "FuqUVKth5Af6"
      }
    },
    {
      "cell_type": "code",
      "source": [
        "jogos_df = pd.DataFrame(dados_jogos)"
      ],
      "metadata": {
        "id": "05SMXSL65b-O"
      },
      "execution_count": null,
      "outputs": []
    },
    {
      "cell_type": "markdown",
      "source": [
        "3. Exibição do DataFrame\n",
        "\n",
        "* O método  ```display() ``` é utilizado para exibir o DataFrame jogos_df."
      ],
      "metadata": {
        "id": "kata-hUt5eF4"
      }
    },
    {
      "cell_type": "code",
      "source": [
        "display(jogos_df)"
      ],
      "metadata": {
        "id": "9hKixRjW5oEI"
      },
      "execution_count": null,
      "outputs": []
    },
    {
      "cell_type": "markdown",
      "source": [
        "### 2 - Apresente o tamanho do seu dataframe (quantas linhas x colunas)."
      ],
      "metadata": {
        "id": "RJKyZQCaxPcp"
      }
    },
    {
      "cell_type": "code",
      "source": [
        "print(\"2) Apresente o tamanho do seu dataframe (quantas linhas x colunas).\")\n",
        "#O comando shape mostrará as dimenções do DataFrame (Linhas e Colunas).\n",
        "num_linhas, num_colunas = jogos_df.shape\n",
        "print(f\"O DataFrame tem {num_linhas} linhas e {num_colunas} colunas.\")\n",
        "print()"
      ],
      "metadata": {
        "colab": {
          "base_uri": "https://localhost:8080/"
        },
        "id": "d6UgBIkjxQDL",
        "outputId": "7c1ff84f-78e0-43f9-c63c-0cebc26e5d68"
      },
      "execution_count": null,
      "outputs": [
        {
          "output_type": "stream",
          "name": "stdout",
          "text": [
            "2) Apresente o tamanho do seu dataframe (quantas linhas x colunas).\n",
            "O DataFrame tem 10 linhas e 10 colunas.\n",
            "\n"
          ]
        }
      ]
    },
    {
      "cell_type": "markdown",
      "source": [
        "### Explicando do Codigo"
      ],
      "metadata": {
        "id": "4xHCvBr76Csm"
      }
    },
    {
      "cell_type": "markdown",
      "source": [
        "1. Apresentar o Tamanho do DataFrame:\n",
        "* ```dataframe.shape```: Retorna uma tupla que contém o número de linhas e colunas do DataFrame. No formato ```(n_linhas, n_colunas)```.\n",
        "* ```num_linhas, num_colunas = dataframe.shape```: Desempacota a tupla em duas variáveis: ```num_linhas``` e ```num_colunas```.\n",
        "* ```print(f\"O DataFrame tem {num_linhas} linhas e {num_colunas} colunas.\")```: Imprime o tamanho do DataFrame no formato \"O DataFrame tem X linhas e Y colunas\"."
      ],
      "metadata": {
        "id": "otr0ZCfkG9bW"
      }
    },
    {
      "cell_type": "markdown",
      "source": [
        "### 3 - Acesse a linha (x) e apresente em tela todas as características do item."
      ],
      "metadata": {
        "id": "CmNky-_PxviE"
      }
    },
    {
      "cell_type": "code",
      "source": [
        "print(\"3) Acesse a linha (x) e apresente em tela todas as características do item.\")\n",
        "#O comando iloc irá alocar apenas a linha e coluna especificada, neste caso, a primeira linha.\n",
        "linha_x = 3\n",
        "print(f\"Características da linha {linha_x}:\")\n",
        "print()\n",
        "print(jogos_df.iloc[linha_x])"
      ],
      "metadata": {
        "colab": {
          "base_uri": "https://localhost:8080/"
        },
        "id": "D4PxxNDOxv2j",
        "outputId": "99a1860f-1e55-4026-f035-a36fab8d6d11"
      },
      "execution_count": null,
      "outputs": [
        {
          "output_type": "stream",
          "name": "stdout",
          "text": [
            "3) Acesse a linha (x) e apresente em tela todas as características do item.\n",
            "Características da linha 3:\n",
            "\n",
            "Data do jogo                 08/06/1986\n",
            "Vencedor                 Boston Celtics\n",
            "Time de Fora            Houston Rockets\n",
            "Time da Casa             Boston Celtics\n",
            "Pontos de Fora                       97\n",
            "Pontos da Casa                      114\n",
            "árbitro Principal             Joe Forte\n",
            "Pontos Iguais                         0\n",
            "Mudançã de Liderança                  0\n",
            "Ultimo Vencedor          Boston Celtics\n",
            "Name: 3, dtype: object\n"
          ]
        }
      ]
    },
    {
      "cell_type": "markdown",
      "source": [
        "###**Explicação do Código**\n",
        "\n",
        "* Acessar a linha específica (x) e exibir todas as suas características:\n",
        "\n",
        "* ```linha_x = 3```: Define o índice da linha que queremos acessar, neste caso, a linha 3.\n",
        "* ```print(f\"Características da linha {linha_x}:\")```: Imprime uma mensagem indicando qual linha estamos acessando.\n",
        "* ```dataframe.iloc[linha_x]```: Acessa a linha de índice ```3``` do DataFrame ```dataframe``` utilizando o método ```iloc```. O método ```iloc``` permite acessar linhas e colunas pelo índice (inteiro) ao invés de rótulos (nomes).\n",
        "* ```print(dataframe.iloc[linha_x])```: Exibe todas as características (valores de todas as colunas) da linha de índice ```3```.\n",
        "\n"
      ],
      "metadata": {
        "id": "LCHEMlseLMtT"
      }
    },
    {
      "cell_type": "markdown",
      "source": [
        "### 4 - Verifique se o DataFrame está vazio.\n"
      ],
      "metadata": {
        "id": "PoON_mp6x_Vc"
      }
    },
    {
      "cell_type": "code",
      "source": [
        "print(\"4) Verifique se o dataframe está vazio.\")\n",
        "#Utilizando Do-While: imprimir na tela \"o DataFrame está vazio\" ou \"O DataFrame não está vazio\"\n",
        "while jogos_df.empty:\n",
        "  print(\"O DataFrame está vazio!\")\n",
        "  break\n",
        "else:\n",
        "  print(\"O DataFrame não está vazio!!\")"
      ],
      "metadata": {
        "colab": {
          "base_uri": "https://localhost:8080/"
        },
        "id": "2agLnNCwx_pO",
        "outputId": "0f0e2e5b-453e-4e06-88c2-8ecc12ba05ce"
      },
      "execution_count": null,
      "outputs": [
        {
          "output_type": "stream",
          "name": "stdout",
          "text": [
            "4) Verifique se o dataframe está vazio.\n",
            "O DataFrame não está vazio!!\n"
          ]
        }
      ]
    },
    {
      "cell_type": "code",
      "source": [
        "#Usando df.empty: O comando empty irá retornar na tela se o DataFrame está vazio ou não utilizando true ou false\n",
        "print(\"4) Verifique se o dataframe está vazio.\")\n",
        "print(jogos_df.empty)\n",
        "print()"
      ],
      "metadata": {
        "colab": {
          "base_uri": "https://localhost:8080/"
        },
        "id": "SaFF5kpU-CxO",
        "outputId": "1d571313-c910-4787-c173-a88bfe3f9673"
      },
      "execution_count": null,
      "outputs": [
        {
          "output_type": "stream",
          "name": "stdout",
          "text": [
            "4) Verifique se o dataframe está vazio.\n",
            "False\n",
            "\n"
          ]
        }
      ]
    },
    {
      "cell_type": "markdown",
      "source": [
        "###**Explicação do Código**\n"
      ],
      "metadata": {
        "id": "EQhqS1mZ8DYe"
      }
    },
    {
      "cell_type": "markdown",
      "source": [
        "1. Definindo o DataFrame Vazio Antes de Usá-lo no Loop:\n",
        "\n",
        "\n",
        "* ```while jogos_df.empty:```: Inicia um loop while, onde a condição de parada é que o DataFrame ```empty_df``` esteja vazio.\n",
        "* ```print(f\"O DataFrame está vazio!\")```: Se o DataFrame estiver vazio, imprime a mensagem \"O DataFrame está vazio!\".\n",
        "* ```break```: Encerra o loop após imprimir a mensagem.\n",
        "* ```else:```: Parte do loop ```while``` que é executada se a condição do loop não for atendida (ou seja, se o DataFrame não estiver vazio).\n",
        "* ```print(\"O DataFrame não está vazio!!\")```: Imprime a mensagem \"O DataFrame possui itens.\" se o DataFrame não estiver vazio."
      ],
      "metadata": {
        "id": "uVqxiacX85kn"
      }
    },
    {
      "cell_type": "markdown",
      "source": [
        "2.   Usando df.empty\n",
        "* Atravéz do método ```df.empty```, ele retornará na tela se o DataFrame está vazio ou não (usando True ou False para determinar sua resposta)"
      ],
      "metadata": {
        "id": "HmdVqfDj8ngJ"
      }
    },
    {
      "cell_type": "markdown",
      "source": [
        "### 5 - Apresente em tela os 5 primeiros registros da base de dados."
      ],
      "metadata": {
        "id": "O19unUubyLSt"
      }
    },
    {
      "cell_type": "code",
      "source": [
        "print(\"5) Apresente em tela os 5 primeiros registros da base de dados.\")\n",
        "#O comando head irá retonar a quantidade de linhas pedidas com o uso de (), neste caso, as 5 primeiras linahs serão retornadas.\n",
        "print(jogos_df.head(5))\n",
        "print()"
      ],
      "metadata": {
        "colab": {
          "base_uri": "https://localhost:8080/"
        },
        "id": "V2MEAp55yLm1",
        "outputId": "8ee04f5f-86e8-41df-d248-5c6d503b27e7"
      },
      "execution_count": null,
      "outputs": [
        {
          "output_type": "stream",
          "name": "stdout",
          "text": [
            "5) Apresente em tela os 5 primeiros registros da base de dados.\n",
            "  Data do jogo            Vencedor        Time de Fora           Time da Casa  \\\n",
            "0   14/06/1998       Chicago Bulls       Chicago Bulls              Utah Jazz   \n",
            "1   19/06/2016           Cavaliers           Cavaliers  Golden State Warriors   \n",
            "2   14/05/1980  Los Angeles Lakers  Los Angeles Lakers     Philadelphia 76ers   \n",
            "3   08/06/1986      Boston Celtics     Houston Rockets         Boston Celtics   \n",
            "4   05/05/1969  Los Angeles Lakers  Los Angeles Lakers         Boston Celtics   \n",
            "\n",
            "  Pontos de Fora Pontos da Casa árbitro Principal Pontos Iguais  \\\n",
            "0             87             86      Dick Bavetta            18   \n",
            "1             93             89     Mike Callahan            11   \n",
            "2            108            103         Joe Forte             0   \n",
            "3             97            114         Joe Forte             0   \n",
            "4            105             99         Joe Forte             0   \n",
            "\n",
            "  Mudançã de Liderança     Ultimo Vencedor  \n",
            "0                    8       Chicago Bulls  \n",
            "1                   20           Cavaliers  \n",
            "2                    0  Los Angeles Lakers  \n",
            "3                    0      Boston Celtics  \n",
            "4                    0  Los Angeles Lakers  \n",
            "\n"
          ]
        }
      ]
    },
    {
      "cell_type": "markdown",
      "source": [
        "### Explicando o Código"
      ],
      "metadata": {
        "id": "9bkGqabd9g0N"
      }
    },
    {
      "cell_type": "markdown",
      "source": [
        "\n",
        "1. Exibir os 5 Primeiros Registros do DataFrame:\n",
        "\n",
        "Neste trecho, estamos exibindo os 5 primeiros registros (linhas) do DataFrame dataframe utilizando o método head().\n",
        "\n",
        "* ```print()```: Exibe o resultado de ```jogos_df.head(5)``` de forma mais amigável e interativa.\n"
      ],
      "metadata": {
        "id": "YvuY5PnKObFi"
      }
    },
    {
      "cell_type": "code",
      "source": [
        "print(jogos_df.head(5))"
      ],
      "metadata": {
        "id": "d5DSWC1u9mvr"
      },
      "execution_count": null,
      "outputs": []
    },
    {
      "cell_type": "markdown",
      "source": [
        "### 6 - Exclua um item (linha) de sua base de dados.\n",
        "\n"
      ],
      "metadata": {
        "id": "0gMFvfcCyl63"
      }
    },
    {
      "cell_type": "code",
      "source": [
        "print(\"6) Exclua um item (linha) de sua base de dados.\")\n",
        "#O comando drop irá excluir uma linha (especificada entre ()) do DataFrame.\n",
        "jogos_df = jogos_df.drop(9)\n",
        "print(\"\\nDataFrame após a remoção da linha com índice 9:\")\n",
        "print(jogos_df)\n",
        "print()"
      ],
      "metadata": {
        "colab": {
          "base_uri": "https://localhost:8080/"
        },
        "id": "NNKkI2z0ymOR",
        "outputId": "9c72566f-5fec-4852-e429-07d734eaaf24"
      },
      "execution_count": null,
      "outputs": [
        {
          "output_type": "stream",
          "name": "stdout",
          "text": [
            "6) Exclua um item (linha) de sua base de dados.\n",
            "\n",
            "DataFrame após a remoção da linha com índice 9:\n",
            "  Data do jogo            Vencedor        Time de Fora           Time da Casa  \\\n",
            "0   14/06/1998       Chicago Bulls       Chicago Bulls              Utah Jazz   \n",
            "1   19/06/2016           Cavaliers           Cavaliers  Golden State Warriors   \n",
            "2   14/05/1980  Los Angeles Lakers  Los Angeles Lakers     Philadelphia 76ers   \n",
            "3   08/06/1986      Boston Celtics     Houston Rockets         Boston Celtics   \n",
            "4   05/05/1969  Los Angeles Lakers  Los Angeles Lakers         Boston Celtics   \n",
            "5   04/06/1976      Boston Celtics         Phoenix Sun         Boston Celtics   \n",
            "6   31/05/2002  Los Angeles Lakers    Sacramento Kings     Los Angeles Lakers   \n",
            "7   20/06/2013         Miami Heats   San Antonio Spurs            Miami Heats   \n",
            "8   18/04/1962      Boston Celtics  Los Angeles Lakers         Boston Celtics   \n",
            "\n",
            "  Pontos de Fora Pontos da Casa árbitro Principal Pontos Iguais  \\\n",
            "0             87             86      Dick Bavetta            18   \n",
            "1             93             89     Mike Callahan            11   \n",
            "2            108            103         Joe Forte             0   \n",
            "3             97            114         Joe Forte             0   \n",
            "4            105             99         Joe Forte             0   \n",
            "5            126            128     Richie Powers             0   \n",
            "6            102            106      Dick Bavetta            11   \n",
            "7             88             95      Dan Crawford            11   \n",
            "8            107            110     Richie Powers             0   \n",
            "\n",
            "  Mudançã de Liderança     Ultimo Vencedor  \n",
            "0                    8       Chicago Bulls  \n",
            "1                   20           Cavaliers  \n",
            "2                    0  Los Angeles Lakers  \n",
            "3                    0      Boston Celtics  \n",
            "4                    0  Los Angeles Lakers  \n",
            "5                    0      Boston Celtics  \n",
            "6                   22    Sacramento Kings  \n",
            "7                    7         Miami Heats  \n",
            "8                    0  Los Angeles Lakers  \n",
            "\n"
          ]
        }
      ]
    },
    {
      "cell_type": "markdown",
      "source": [
        "### Explicação do Código"
      ],
      "metadata": {
        "id": "b01I9QoB-Leb"
      }
    },
    {
      "cell_type": "markdown",
      "source": [
        "\n",
        "\n",
        "1. Remover a Linha com Índice 9 (Chicago Bulls x Utah Jazz):\n",
        "\n",
        "Neste trecho, estamos removendo a linha com índice 3 (correspondente ao jogo entre Chicago Bulls x Utah Jazz) do DataFrame ```jogos_df``` utilizando o método ```drop()```.\n",
        "* ```jogos_df = jogos_df.drop(9)```: Retorna um novo DataFrame com a linha especificada removida.\n",
        "\n"
      ],
      "metadata": {
        "id": "lNocP9jSQvSZ"
      }
    },
    {
      "cell_type": "markdown",
      "source": [
        "### 7 - Adicione um item (linha) na sua base de dados."
      ],
      "metadata": {
        "id": "4khYUivezGuB"
      }
    },
    {
      "cell_type": "code",
      "source": [
        "print(\"7) Adicione um item (linha) na sua base de dados.\")\n",
        "#adicionei uma nova linha no nosso DataFrame com a ajuda do dicionario.\n",
        "novo_jogo = {\n",
        "    'Data do jogo': '11/06/1997',\n",
        "    'Time de Fora': 'Utah Jazz',\n",
        "    'Time da Casa': 'Chicago Bulls',\n",
        "    'Pontos de Fora': '88',\n",
        "    'Pontos da Casa': '90',\n",
        "    'árbitro Principal': 'Bill Oakes',\n",
        "    'Pontos Iguais': '7',\n",
        "    'Mudançã de Liderança': '7',\n",
        "    'Ultimo Vencedor': 'Chicago Bulls',\n",
        "    'Vencedor': 'Chicago Bulls',\n",
        "    }\n",
        "jogos_df = pd.concat([jogos_df, pd.DataFrame(novo_jogo, index=[5])],ignore_index=True)\n",
        "print(jogos_df)\n",
        "print()"
      ],
      "metadata": {
        "colab": {
          "base_uri": "https://localhost:8080/"
        },
        "id": "r7LUQEw_zN44",
        "outputId": "86897065-b0f3-4128-d710-c24185353086"
      },
      "execution_count": null,
      "outputs": [
        {
          "output_type": "stream",
          "name": "stdout",
          "text": [
            "7) Adicione um item (linha) na sua base de dados.\n",
            "  Data do jogo            Vencedor        Time de Fora           Time da Casa  \\\n",
            "0   14/06/1998       Chicago Bulls       Chicago Bulls              Utah Jazz   \n",
            "1   19/06/2016           Cavaliers           Cavaliers  Golden State Warriors   \n",
            "2   14/05/1980  Los Angeles Lakers  Los Angeles Lakers     Philadelphia 76ers   \n",
            "3   08/06/1986      Boston Celtics     Houston Rockets         Boston Celtics   \n",
            "4   05/05/1969  Los Angeles Lakers  Los Angeles Lakers         Boston Celtics   \n",
            "5   04/06/1976      Boston Celtics         Phoenix Sun         Boston Celtics   \n",
            "6   31/05/2002  Los Angeles Lakers    Sacramento Kings     Los Angeles Lakers   \n",
            "7   20/06/2013         Miami Heats   San Antonio Spurs            Miami Heats   \n",
            "8   18/04/1962      Boston Celtics  Los Angeles Lakers         Boston Celtics   \n",
            "9   11/06/1997       Chicago Bulls           Utah Jazz          Chicago Bulls   \n",
            "\n",
            "  Pontos de Fora Pontos da Casa árbitro Principal Pontos Iguais  \\\n",
            "0             87             86      Dick Bavetta            18   \n",
            "1             93             89     Mike Callahan            11   \n",
            "2            108            103         Joe Forte             0   \n",
            "3             97            114         Joe Forte             0   \n",
            "4            105             99         Joe Forte             0   \n",
            "5            126            128     Richie Powers             0   \n",
            "6            102            106      Dick Bavetta            11   \n",
            "7             88             95      Dan Crawford            11   \n",
            "8            107            110     Richie Powers             0   \n",
            "9             88             90        Bill Oakes             7   \n",
            "\n",
            "  Mudançã de Liderança     Ultimo Vencedor  \n",
            "0                    8       Chicago Bulls  \n",
            "1                   20           Cavaliers  \n",
            "2                    0  Los Angeles Lakers  \n",
            "3                    0      Boston Celtics  \n",
            "4                    0  Los Angeles Lakers  \n",
            "5                    0      Boston Celtics  \n",
            "6                   22    Sacramento Kings  \n",
            "7                    7         Miami Heats  \n",
            "8                    0  Los Angeles Lakers  \n",
            "9                    7       Chicago Bulls  \n",
            "\n"
          ]
        }
      ]
    },
    {
      "cell_type": "markdown",
      "source": [
        "### Explicação do Código"
      ],
      "metadata": {
        "id": "vbhrBDuL_xBn"
      }
    },
    {
      "cell_type": "markdown",
      "source": [
        "1. Novo Item a ser Adicionado:\n",
        "\n",
        "* Este trecho define um novo item (um jogo) que será adicionado ao DataFrame. O item é representado como um dicionário com chaves correspondentes aos nomes das colunas do DataFrame.\n",
        "\n"
      ],
      "metadata": {
        "id": "F7CFzIogRyid"
      }
    },
    {
      "cell_type": "code",
      "source": [
        "novo_jogo = {\n",
        "    'Data do jogo': '11/06/1997',\n",
        "    'Time de Fora': 'Utah Jazz',\n",
        "    'Time da Casa': 'Chicago Bulls',\n",
        "    'Pontos de Fora': '88',\n",
        "    'Pontos da Casa': '90',\n",
        "    'árbitro Principal': 'Bill Oakes',\n",
        "    'Pontos Iguais': '7',\n",
        "    'Mudançã de Liderança': '7',\n",
        "    'Ultimo Vencedor': 'Chicago Bulls',\n",
        "    'Vencedor': 'Chicago Bulls',\n",
        "    }"
      ],
      "metadata": {
        "id": "xyxfOHry_8rS"
      },
      "execution_count": null,
      "outputs": []
    },
    {
      "cell_type": "markdown",
      "source": [
        "2. Adicionar o Novo Item ao DataFrame Usando `pd.concat`:\n",
        "\n",
        "* Neste trecho, estamos adicionando o novo jogo `novo_jogo` ao final do DataFrame `jogos_df` utilizando a função `pd.concat()`. O parâmetro `ignore_index=True` garante que os índices das linhas sejam redefinidos após a concatenação, para evitar índices duplicados."
      ],
      "metadata": {
        "id": "-5SEEgY4AHR_"
      }
    },
    {
      "cell_type": "code",
      "source": [
        "jogos_df = pd.concat([jogos_df, pd.DataFrame(novo_jogo, index=[5])],ignore_index=True)"
      ],
      "metadata": {
        "id": "P0ZBRZtwAZmP"
      },
      "execution_count": null,
      "outputs": []
    },
    {
      "cell_type": "markdown",
      "source": [
        "### 8 - Transponha a coluna para a linha em sua base de dados."
      ],
      "metadata": {
        "id": "hbXb6JYp0cCX"
      }
    },
    {
      "cell_type": "code",
      "source": [
        "print(\"8) Transponha a coluna para a linha em sua base de dados.\")\n",
        "# Transpor uma coluna específica, por exemplo, a coluna 'vencedor'\n",
        "coluna_vencedor_transposta = jogos_df['Vencedor'].to_frame().T\n",
        "\n",
        "# Exibir a coluna transposta\n",
        "print()\n",
        "print(\"\\nColuna 'Vencedor' transposta para linha:\")\n",
        "display(coluna_vencedor_transposta)\n",
        "\n",
        "# Transpor todo o DataFrame e exibi-lo\n",
        "print(\"\\nDataFrame transposto:\")\n",
        "df_transposto = jogos_df.T\n",
        "df_transposto"
      ],
      "metadata": {
        "colab": {
          "base_uri": "https://localhost:8080/",
          "height": 546
        },
        "id": "IXxYBY600iA6",
        "outputId": "ead3afc9-a7f7-4b56-f1c6-8042a3c36a65"
      },
      "execution_count": null,
      "outputs": [
        {
          "output_type": "stream",
          "name": "stdout",
          "text": [
            "8) Transponha a coluna para a linha em sua base de dados.\n",
            "\n",
            "\n",
            "Coluna 'Vencedor' transposta para linha:\n"
          ]
        },
        {
          "output_type": "display_data",
          "data": {
            "text/plain": [
              "                      0          1                   2               3  \\\n",
              "Vencedor  Chicago Bulls  Cavaliers  Los Angeles Lakers  Boston Celtics   \n",
              "\n",
              "                           4               5                   6            7  \\\n",
              "Vencedor  Los Angeles Lakers  Boston Celtics  Los Angeles Lakers  Miami Heats   \n",
              "\n",
              "                       8              9  \n",
              "Vencedor  Boston Celtics  Chicago Bulls  "
            ],
            "text/html": [
              "\n",
              "  <div id=\"df-3d66bc81-ab82-4c31-b7c3-e288af80ffde\" class=\"colab-df-container\">\n",
              "    <div>\n",
              "<style scoped>\n",
              "    .dataframe tbody tr th:only-of-type {\n",
              "        vertical-align: middle;\n",
              "    }\n",
              "\n",
              "    .dataframe tbody tr th {\n",
              "        vertical-align: top;\n",
              "    }\n",
              "\n",
              "    .dataframe thead th {\n",
              "        text-align: right;\n",
              "    }\n",
              "</style>\n",
              "<table border=\"1\" class=\"dataframe\">\n",
              "  <thead>\n",
              "    <tr style=\"text-align: right;\">\n",
              "      <th></th>\n",
              "      <th>0</th>\n",
              "      <th>1</th>\n",
              "      <th>2</th>\n",
              "      <th>3</th>\n",
              "      <th>4</th>\n",
              "      <th>5</th>\n",
              "      <th>6</th>\n",
              "      <th>7</th>\n",
              "      <th>8</th>\n",
              "      <th>9</th>\n",
              "    </tr>\n",
              "  </thead>\n",
              "  <tbody>\n",
              "    <tr>\n",
              "      <th>Vencedor</th>\n",
              "      <td>Chicago Bulls</td>\n",
              "      <td>Cavaliers</td>\n",
              "      <td>Los Angeles Lakers</td>\n",
              "      <td>Boston Celtics</td>\n",
              "      <td>Los Angeles Lakers</td>\n",
              "      <td>Boston Celtics</td>\n",
              "      <td>Los Angeles Lakers</td>\n",
              "      <td>Miami Heats</td>\n",
              "      <td>Boston Celtics</td>\n",
              "      <td>Chicago Bulls</td>\n",
              "    </tr>\n",
              "  </tbody>\n",
              "</table>\n",
              "</div>\n",
              "    <div class=\"colab-df-buttons\">\n",
              "\n",
              "  <div class=\"colab-df-container\">\n",
              "    <button class=\"colab-df-convert\" onclick=\"convertToInteractive('df-3d66bc81-ab82-4c31-b7c3-e288af80ffde')\"\n",
              "            title=\"Convert this dataframe to an interactive table.\"\n",
              "            style=\"display:none;\">\n",
              "\n",
              "  <svg xmlns=\"http://www.w3.org/2000/svg\" height=\"24px\" viewBox=\"0 -960 960 960\">\n",
              "    <path d=\"M120-120v-720h720v720H120Zm60-500h600v-160H180v160Zm220 220h160v-160H400v160Zm0 220h160v-160H400v160ZM180-400h160v-160H180v160Zm440 0h160v-160H620v160ZM180-180h160v-160H180v160Zm440 0h160v-160H620v160Z\"/>\n",
              "  </svg>\n",
              "    </button>\n",
              "\n",
              "  <style>\n",
              "    .colab-df-container {\n",
              "      display:flex;\n",
              "      gap: 12px;\n",
              "    }\n",
              "\n",
              "    .colab-df-convert {\n",
              "      background-color: #E8F0FE;\n",
              "      border: none;\n",
              "      border-radius: 50%;\n",
              "      cursor: pointer;\n",
              "      display: none;\n",
              "      fill: #1967D2;\n",
              "      height: 32px;\n",
              "      padding: 0 0 0 0;\n",
              "      width: 32px;\n",
              "    }\n",
              "\n",
              "    .colab-df-convert:hover {\n",
              "      background-color: #E2EBFA;\n",
              "      box-shadow: 0px 1px 2px rgba(60, 64, 67, 0.3), 0px 1px 3px 1px rgba(60, 64, 67, 0.15);\n",
              "      fill: #174EA6;\n",
              "    }\n",
              "\n",
              "    .colab-df-buttons div {\n",
              "      margin-bottom: 4px;\n",
              "    }\n",
              "\n",
              "    [theme=dark] .colab-df-convert {\n",
              "      background-color: #3B4455;\n",
              "      fill: #D2E3FC;\n",
              "    }\n",
              "\n",
              "    [theme=dark] .colab-df-convert:hover {\n",
              "      background-color: #434B5C;\n",
              "      box-shadow: 0px 1px 3px 1px rgba(0, 0, 0, 0.15);\n",
              "      filter: drop-shadow(0px 1px 2px rgba(0, 0, 0, 0.3));\n",
              "      fill: #FFFFFF;\n",
              "    }\n",
              "  </style>\n",
              "\n",
              "    <script>\n",
              "      const buttonEl =\n",
              "        document.querySelector('#df-3d66bc81-ab82-4c31-b7c3-e288af80ffde button.colab-df-convert');\n",
              "      buttonEl.style.display =\n",
              "        google.colab.kernel.accessAllowed ? 'block' : 'none';\n",
              "\n",
              "      async function convertToInteractive(key) {\n",
              "        const element = document.querySelector('#df-3d66bc81-ab82-4c31-b7c3-e288af80ffde');\n",
              "        const dataTable =\n",
              "          await google.colab.kernel.invokeFunction('convertToInteractive',\n",
              "                                                    [key], {});\n",
              "        if (!dataTable) return;\n",
              "\n",
              "        const docLinkHtml = 'Like what you see? Visit the ' +\n",
              "          '<a target=\"_blank\" href=https://colab.research.google.com/notebooks/data_table.ipynb>data table notebook</a>'\n",
              "          + ' to learn more about interactive tables.';\n",
              "        element.innerHTML = '';\n",
              "        dataTable['output_type'] = 'display_data';\n",
              "        await google.colab.output.renderOutput(dataTable, element);\n",
              "        const docLink = document.createElement('div');\n",
              "        docLink.innerHTML = docLinkHtml;\n",
              "        element.appendChild(docLink);\n",
              "      }\n",
              "    </script>\n",
              "  </div>\n",
              "\n",
              "\n",
              "  <div id=\"id_7ccacd61-d2f0-43e1-a18b-c413b3d11022\">\n",
              "    <style>\n",
              "      .colab-df-generate {\n",
              "        background-color: #E8F0FE;\n",
              "        border: none;\n",
              "        border-radius: 50%;\n",
              "        cursor: pointer;\n",
              "        display: none;\n",
              "        fill: #1967D2;\n",
              "        height: 32px;\n",
              "        padding: 0 0 0 0;\n",
              "        width: 32px;\n",
              "      }\n",
              "\n",
              "      .colab-df-generate:hover {\n",
              "        background-color: #E2EBFA;\n",
              "        box-shadow: 0px 1px 2px rgba(60, 64, 67, 0.3), 0px 1px 3px 1px rgba(60, 64, 67, 0.15);\n",
              "        fill: #174EA6;\n",
              "      }\n",
              "\n",
              "      [theme=dark] .colab-df-generate {\n",
              "        background-color: #3B4455;\n",
              "        fill: #D2E3FC;\n",
              "      }\n",
              "\n",
              "      [theme=dark] .colab-df-generate:hover {\n",
              "        background-color: #434B5C;\n",
              "        box-shadow: 0px 1px 3px 1px rgba(0, 0, 0, 0.15);\n",
              "        filter: drop-shadow(0px 1px 2px rgba(0, 0, 0, 0.3));\n",
              "        fill: #FFFFFF;\n",
              "      }\n",
              "    </style>\n",
              "    <button class=\"colab-df-generate\" onclick=\"generateWithVariable('coluna_vencedor_transposta')\"\n",
              "            title=\"Generate code using this dataframe.\"\n",
              "            style=\"display:none;\">\n",
              "\n",
              "  <svg xmlns=\"http://www.w3.org/2000/svg\" height=\"24px\"viewBox=\"0 0 24 24\"\n",
              "       width=\"24px\">\n",
              "    <path d=\"M7,19H8.4L18.45,9,17,7.55,7,17.6ZM5,21V16.75L18.45,3.32a2,2,0,0,1,2.83,0l1.4,1.43a1.91,1.91,0,0,1,.58,1.4,1.91,1.91,0,0,1-.58,1.4L9.25,21ZM18.45,9,17,7.55Zm-12,3A5.31,5.31,0,0,0,4.9,8.1,5.31,5.31,0,0,0,1,6.5,5.31,5.31,0,0,0,4.9,4.9,5.31,5.31,0,0,0,6.5,1,5.31,5.31,0,0,0,8.1,4.9,5.31,5.31,0,0,0,12,6.5,5.46,5.46,0,0,0,6.5,12Z\"/>\n",
              "  </svg>\n",
              "    </button>\n",
              "    <script>\n",
              "      (() => {\n",
              "      const buttonEl =\n",
              "        document.querySelector('#id_7ccacd61-d2f0-43e1-a18b-c413b3d11022 button.colab-df-generate');\n",
              "      buttonEl.style.display =\n",
              "        google.colab.kernel.accessAllowed ? 'block' : 'none';\n",
              "\n",
              "      buttonEl.onclick = () => {\n",
              "        google.colab.notebook.generateWithVariable('coluna_vencedor_transposta');\n",
              "      }\n",
              "      })();\n",
              "    </script>\n",
              "  </div>\n",
              "\n",
              "    </div>\n",
              "  </div>\n"
            ],
            "application/vnd.google.colaboratory.intrinsic+json": {
              "type": "dataframe",
              "variable_name": "coluna_vencedor_transposta",
              "summary": "{\n  \"name\": \"coluna_vencedor_transposta\",\n  \"rows\": 1,\n  \"fields\": [\n    {\n      \"column\": 0,\n      \"properties\": {\n        \"dtype\": \"string\",\n        \"num_unique_values\": 1,\n        \"samples\": [\n          \"Chicago Bulls\"\n        ],\n        \"semantic_type\": \"\",\n        \"description\": \"\"\n      }\n    },\n    {\n      \"column\": 1,\n      \"properties\": {\n        \"dtype\": \"string\",\n        \"num_unique_values\": 1,\n        \"samples\": [\n          \"Cavaliers\"\n        ],\n        \"semantic_type\": \"\",\n        \"description\": \"\"\n      }\n    },\n    {\n      \"column\": 2,\n      \"properties\": {\n        \"dtype\": \"string\",\n        \"num_unique_values\": 1,\n        \"samples\": [\n          \"Los Angeles Lakers\"\n        ],\n        \"semantic_type\": \"\",\n        \"description\": \"\"\n      }\n    },\n    {\n      \"column\": 3,\n      \"properties\": {\n        \"dtype\": \"string\",\n        \"num_unique_values\": 1,\n        \"samples\": [\n          \"Boston Celtics\"\n        ],\n        \"semantic_type\": \"\",\n        \"description\": \"\"\n      }\n    },\n    {\n      \"column\": 4,\n      \"properties\": {\n        \"dtype\": \"string\",\n        \"num_unique_values\": 1,\n        \"samples\": [\n          \"Los Angeles Lakers\"\n        ],\n        \"semantic_type\": \"\",\n        \"description\": \"\"\n      }\n    },\n    {\n      \"column\": 5,\n      \"properties\": {\n        \"dtype\": \"string\",\n        \"num_unique_values\": 1,\n        \"samples\": [\n          \"Boston Celtics\"\n        ],\n        \"semantic_type\": \"\",\n        \"description\": \"\"\n      }\n    },\n    {\n      \"column\": 6,\n      \"properties\": {\n        \"dtype\": \"string\",\n        \"num_unique_values\": 1,\n        \"samples\": [\n          \"Los Angeles Lakers\"\n        ],\n        \"semantic_type\": \"\",\n        \"description\": \"\"\n      }\n    },\n    {\n      \"column\": 7,\n      \"properties\": {\n        \"dtype\": \"string\",\n        \"num_unique_values\": 1,\n        \"samples\": [\n          \"Miami Heats\"\n        ],\n        \"semantic_type\": \"\",\n        \"description\": \"\"\n      }\n    },\n    {\n      \"column\": 8,\n      \"properties\": {\n        \"dtype\": \"string\",\n        \"num_unique_values\": 1,\n        \"samples\": [\n          \"Boston Celtics\"\n        ],\n        \"semantic_type\": \"\",\n        \"description\": \"\"\n      }\n    },\n    {\n      \"column\": 9,\n      \"properties\": {\n        \"dtype\": \"string\",\n        \"num_unique_values\": 1,\n        \"samples\": [\n          \"Chicago Bulls\"\n        ],\n        \"semantic_type\": \"\",\n        \"description\": \"\"\n      }\n    }\n  ]\n}"
            }
          },
          "metadata": {}
        },
        {
          "output_type": "stream",
          "name": "stdout",
          "text": [
            "\n",
            "DataFrame transposto:\n"
          ]
        },
        {
          "output_type": "execute_result",
          "data": {
            "text/plain": [
              "                                  0                      1  \\\n",
              "Data do jogo             14/06/1998             19/06/2016   \n",
              "Vencedor              Chicago Bulls              Cavaliers   \n",
              "Time de Fora          Chicago Bulls              Cavaliers   \n",
              "Time da Casa              Utah Jazz  Golden State Warriors   \n",
              "Pontos de Fora                   87                     93   \n",
              "Pontos da Casa                   86                     89   \n",
              "árbitro Principal      Dick Bavetta          Mike Callahan   \n",
              "Pontos Iguais                    18                     11   \n",
              "Mudançã de Liderança              8                     20   \n",
              "Ultimo Vencedor       Chicago Bulls              Cavaliers   \n",
              "\n",
              "                                       2                3                   4  \\\n",
              "Data do jogo                  14/05/1980       08/06/1986          05/05/1969   \n",
              "Vencedor              Los Angeles Lakers   Boston Celtics  Los Angeles Lakers   \n",
              "Time de Fora          Los Angeles Lakers  Houston Rockets  Los Angeles Lakers   \n",
              "Time da Casa          Philadelphia 76ers   Boston Celtics      Boston Celtics   \n",
              "Pontos de Fora                       108               97                 105   \n",
              "Pontos da Casa                       103              114                  99   \n",
              "árbitro Principal              Joe Forte        Joe Forte           Joe Forte   \n",
              "Pontos Iguais                          0                0                   0   \n",
              "Mudançã de Liderança                   0                0                   0   \n",
              "Ultimo Vencedor       Los Angeles Lakers   Boston Celtics  Los Angeles Lakers   \n",
              "\n",
              "                                   5                   6                  7  \\\n",
              "Data do jogo              04/06/1976          31/05/2002         20/06/2013   \n",
              "Vencedor              Boston Celtics  Los Angeles Lakers        Miami Heats   \n",
              "Time de Fora             Phoenix Sun    Sacramento Kings  San Antonio Spurs   \n",
              "Time da Casa          Boston Celtics  Los Angeles Lakers        Miami Heats   \n",
              "Pontos de Fora                   126                 102                 88   \n",
              "Pontos da Casa                   128                 106                 95   \n",
              "árbitro Principal      Richie Powers        Dick Bavetta       Dan Crawford   \n",
              "Pontos Iguais                      0                  11                 11   \n",
              "Mudançã de Liderança               0                  22                  7   \n",
              "Ultimo Vencedor       Boston Celtics    Sacramento Kings        Miami Heats   \n",
              "\n",
              "                                       8              9  \n",
              "Data do jogo                  18/04/1962     11/06/1997  \n",
              "Vencedor                  Boston Celtics  Chicago Bulls  \n",
              "Time de Fora          Los Angeles Lakers      Utah Jazz  \n",
              "Time da Casa              Boston Celtics  Chicago Bulls  \n",
              "Pontos de Fora                       107             88  \n",
              "Pontos da Casa                       110             90  \n",
              "árbitro Principal          Richie Powers     Bill Oakes  \n",
              "Pontos Iguais                          0              7  \n",
              "Mudançã de Liderança                   0              7  \n",
              "Ultimo Vencedor       Los Angeles Lakers  Chicago Bulls  "
            ],
            "text/html": [
              "\n",
              "  <div id=\"df-5b4e18cb-10ac-41ae-ad61-e44fb4c314e4\" class=\"colab-df-container\">\n",
              "    <div>\n",
              "<style scoped>\n",
              "    .dataframe tbody tr th:only-of-type {\n",
              "        vertical-align: middle;\n",
              "    }\n",
              "\n",
              "    .dataframe tbody tr th {\n",
              "        vertical-align: top;\n",
              "    }\n",
              "\n",
              "    .dataframe thead th {\n",
              "        text-align: right;\n",
              "    }\n",
              "</style>\n",
              "<table border=\"1\" class=\"dataframe\">\n",
              "  <thead>\n",
              "    <tr style=\"text-align: right;\">\n",
              "      <th></th>\n",
              "      <th>0</th>\n",
              "      <th>1</th>\n",
              "      <th>2</th>\n",
              "      <th>3</th>\n",
              "      <th>4</th>\n",
              "      <th>5</th>\n",
              "      <th>6</th>\n",
              "      <th>7</th>\n",
              "      <th>8</th>\n",
              "      <th>9</th>\n",
              "    </tr>\n",
              "  </thead>\n",
              "  <tbody>\n",
              "    <tr>\n",
              "      <th>Data do jogo</th>\n",
              "      <td>14/06/1998</td>\n",
              "      <td>19/06/2016</td>\n",
              "      <td>14/05/1980</td>\n",
              "      <td>08/06/1986</td>\n",
              "      <td>05/05/1969</td>\n",
              "      <td>04/06/1976</td>\n",
              "      <td>31/05/2002</td>\n",
              "      <td>20/06/2013</td>\n",
              "      <td>18/04/1962</td>\n",
              "      <td>11/06/1997</td>\n",
              "    </tr>\n",
              "    <tr>\n",
              "      <th>Vencedor</th>\n",
              "      <td>Chicago Bulls</td>\n",
              "      <td>Cavaliers</td>\n",
              "      <td>Los Angeles Lakers</td>\n",
              "      <td>Boston Celtics</td>\n",
              "      <td>Los Angeles Lakers</td>\n",
              "      <td>Boston Celtics</td>\n",
              "      <td>Los Angeles Lakers</td>\n",
              "      <td>Miami Heats</td>\n",
              "      <td>Boston Celtics</td>\n",
              "      <td>Chicago Bulls</td>\n",
              "    </tr>\n",
              "    <tr>\n",
              "      <th>Time de Fora</th>\n",
              "      <td>Chicago Bulls</td>\n",
              "      <td>Cavaliers</td>\n",
              "      <td>Los Angeles Lakers</td>\n",
              "      <td>Houston Rockets</td>\n",
              "      <td>Los Angeles Lakers</td>\n",
              "      <td>Phoenix Sun</td>\n",
              "      <td>Sacramento Kings</td>\n",
              "      <td>San Antonio Spurs</td>\n",
              "      <td>Los Angeles Lakers</td>\n",
              "      <td>Utah Jazz</td>\n",
              "    </tr>\n",
              "    <tr>\n",
              "      <th>Time da Casa</th>\n",
              "      <td>Utah Jazz</td>\n",
              "      <td>Golden State Warriors</td>\n",
              "      <td>Philadelphia 76ers</td>\n",
              "      <td>Boston Celtics</td>\n",
              "      <td>Boston Celtics</td>\n",
              "      <td>Boston Celtics</td>\n",
              "      <td>Los Angeles Lakers</td>\n",
              "      <td>Miami Heats</td>\n",
              "      <td>Boston Celtics</td>\n",
              "      <td>Chicago Bulls</td>\n",
              "    </tr>\n",
              "    <tr>\n",
              "      <th>Pontos de Fora</th>\n",
              "      <td>87</td>\n",
              "      <td>93</td>\n",
              "      <td>108</td>\n",
              "      <td>97</td>\n",
              "      <td>105</td>\n",
              "      <td>126</td>\n",
              "      <td>102</td>\n",
              "      <td>88</td>\n",
              "      <td>107</td>\n",
              "      <td>88</td>\n",
              "    </tr>\n",
              "    <tr>\n",
              "      <th>Pontos da Casa</th>\n",
              "      <td>86</td>\n",
              "      <td>89</td>\n",
              "      <td>103</td>\n",
              "      <td>114</td>\n",
              "      <td>99</td>\n",
              "      <td>128</td>\n",
              "      <td>106</td>\n",
              "      <td>95</td>\n",
              "      <td>110</td>\n",
              "      <td>90</td>\n",
              "    </tr>\n",
              "    <tr>\n",
              "      <th>árbitro Principal</th>\n",
              "      <td>Dick Bavetta</td>\n",
              "      <td>Mike Callahan</td>\n",
              "      <td>Joe Forte</td>\n",
              "      <td>Joe Forte</td>\n",
              "      <td>Joe Forte</td>\n",
              "      <td>Richie Powers</td>\n",
              "      <td>Dick Bavetta</td>\n",
              "      <td>Dan Crawford</td>\n",
              "      <td>Richie Powers</td>\n",
              "      <td>Bill Oakes</td>\n",
              "    </tr>\n",
              "    <tr>\n",
              "      <th>Pontos Iguais</th>\n",
              "      <td>18</td>\n",
              "      <td>11</td>\n",
              "      <td>0</td>\n",
              "      <td>0</td>\n",
              "      <td>0</td>\n",
              "      <td>0</td>\n",
              "      <td>11</td>\n",
              "      <td>11</td>\n",
              "      <td>0</td>\n",
              "      <td>7</td>\n",
              "    </tr>\n",
              "    <tr>\n",
              "      <th>Mudançã de Liderança</th>\n",
              "      <td>8</td>\n",
              "      <td>20</td>\n",
              "      <td>0</td>\n",
              "      <td>0</td>\n",
              "      <td>0</td>\n",
              "      <td>0</td>\n",
              "      <td>22</td>\n",
              "      <td>7</td>\n",
              "      <td>0</td>\n",
              "      <td>7</td>\n",
              "    </tr>\n",
              "    <tr>\n",
              "      <th>Ultimo Vencedor</th>\n",
              "      <td>Chicago Bulls</td>\n",
              "      <td>Cavaliers</td>\n",
              "      <td>Los Angeles Lakers</td>\n",
              "      <td>Boston Celtics</td>\n",
              "      <td>Los Angeles Lakers</td>\n",
              "      <td>Boston Celtics</td>\n",
              "      <td>Sacramento Kings</td>\n",
              "      <td>Miami Heats</td>\n",
              "      <td>Los Angeles Lakers</td>\n",
              "      <td>Chicago Bulls</td>\n",
              "    </tr>\n",
              "  </tbody>\n",
              "</table>\n",
              "</div>\n",
              "    <div class=\"colab-df-buttons\">\n",
              "\n",
              "  <div class=\"colab-df-container\">\n",
              "    <button class=\"colab-df-convert\" onclick=\"convertToInteractive('df-5b4e18cb-10ac-41ae-ad61-e44fb4c314e4')\"\n",
              "            title=\"Convert this dataframe to an interactive table.\"\n",
              "            style=\"display:none;\">\n",
              "\n",
              "  <svg xmlns=\"http://www.w3.org/2000/svg\" height=\"24px\" viewBox=\"0 -960 960 960\">\n",
              "    <path d=\"M120-120v-720h720v720H120Zm60-500h600v-160H180v160Zm220 220h160v-160H400v160Zm0 220h160v-160H400v160ZM180-400h160v-160H180v160Zm440 0h160v-160H620v160ZM180-180h160v-160H180v160Zm440 0h160v-160H620v160Z\"/>\n",
              "  </svg>\n",
              "    </button>\n",
              "\n",
              "  <style>\n",
              "    .colab-df-container {\n",
              "      display:flex;\n",
              "      gap: 12px;\n",
              "    }\n",
              "\n",
              "    .colab-df-convert {\n",
              "      background-color: #E8F0FE;\n",
              "      border: none;\n",
              "      border-radius: 50%;\n",
              "      cursor: pointer;\n",
              "      display: none;\n",
              "      fill: #1967D2;\n",
              "      height: 32px;\n",
              "      padding: 0 0 0 0;\n",
              "      width: 32px;\n",
              "    }\n",
              "\n",
              "    .colab-df-convert:hover {\n",
              "      background-color: #E2EBFA;\n",
              "      box-shadow: 0px 1px 2px rgba(60, 64, 67, 0.3), 0px 1px 3px 1px rgba(60, 64, 67, 0.15);\n",
              "      fill: #174EA6;\n",
              "    }\n",
              "\n",
              "    .colab-df-buttons div {\n",
              "      margin-bottom: 4px;\n",
              "    }\n",
              "\n",
              "    [theme=dark] .colab-df-convert {\n",
              "      background-color: #3B4455;\n",
              "      fill: #D2E3FC;\n",
              "    }\n",
              "\n",
              "    [theme=dark] .colab-df-convert:hover {\n",
              "      background-color: #434B5C;\n",
              "      box-shadow: 0px 1px 3px 1px rgba(0, 0, 0, 0.15);\n",
              "      filter: drop-shadow(0px 1px 2px rgba(0, 0, 0, 0.3));\n",
              "      fill: #FFFFFF;\n",
              "    }\n",
              "  </style>\n",
              "\n",
              "    <script>\n",
              "      const buttonEl =\n",
              "        document.querySelector('#df-5b4e18cb-10ac-41ae-ad61-e44fb4c314e4 button.colab-df-convert');\n",
              "      buttonEl.style.display =\n",
              "        google.colab.kernel.accessAllowed ? 'block' : 'none';\n",
              "\n",
              "      async function convertToInteractive(key) {\n",
              "        const element = document.querySelector('#df-5b4e18cb-10ac-41ae-ad61-e44fb4c314e4');\n",
              "        const dataTable =\n",
              "          await google.colab.kernel.invokeFunction('convertToInteractive',\n",
              "                                                    [key], {});\n",
              "        if (!dataTable) return;\n",
              "\n",
              "        const docLinkHtml = 'Like what you see? Visit the ' +\n",
              "          '<a target=\"_blank\" href=https://colab.research.google.com/notebooks/data_table.ipynb>data table notebook</a>'\n",
              "          + ' to learn more about interactive tables.';\n",
              "        element.innerHTML = '';\n",
              "        dataTable['output_type'] = 'display_data';\n",
              "        await google.colab.output.renderOutput(dataTable, element);\n",
              "        const docLink = document.createElement('div');\n",
              "        docLink.innerHTML = docLinkHtml;\n",
              "        element.appendChild(docLink);\n",
              "      }\n",
              "    </script>\n",
              "  </div>\n",
              "\n",
              "\n",
              "<div id=\"df-fc48c5e8-1c7e-4bc5-8ed2-f57887728380\">\n",
              "  <button class=\"colab-df-quickchart\" onclick=\"quickchart('df-fc48c5e8-1c7e-4bc5-8ed2-f57887728380')\"\n",
              "            title=\"Suggest charts\"\n",
              "            style=\"display:none;\">\n",
              "\n",
              "<svg xmlns=\"http://www.w3.org/2000/svg\" height=\"24px\"viewBox=\"0 0 24 24\"\n",
              "     width=\"24px\">\n",
              "    <g>\n",
              "        <path d=\"M19 3H5c-1.1 0-2 .9-2 2v14c0 1.1.9 2 2 2h14c1.1 0 2-.9 2-2V5c0-1.1-.9-2-2-2zM9 17H7v-7h2v7zm4 0h-2V7h2v10zm4 0h-2v-4h2v4z\"/>\n",
              "    </g>\n",
              "</svg>\n",
              "  </button>\n",
              "\n",
              "<style>\n",
              "  .colab-df-quickchart {\n",
              "      --bg-color: #E8F0FE;\n",
              "      --fill-color: #1967D2;\n",
              "      --hover-bg-color: #E2EBFA;\n",
              "      --hover-fill-color: #174EA6;\n",
              "      --disabled-fill-color: #AAA;\n",
              "      --disabled-bg-color: #DDD;\n",
              "  }\n",
              "\n",
              "  [theme=dark] .colab-df-quickchart {\n",
              "      --bg-color: #3B4455;\n",
              "      --fill-color: #D2E3FC;\n",
              "      --hover-bg-color: #434B5C;\n",
              "      --hover-fill-color: #FFFFFF;\n",
              "      --disabled-bg-color: #3B4455;\n",
              "      --disabled-fill-color: #666;\n",
              "  }\n",
              "\n",
              "  .colab-df-quickchart {\n",
              "    background-color: var(--bg-color);\n",
              "    border: none;\n",
              "    border-radius: 50%;\n",
              "    cursor: pointer;\n",
              "    display: none;\n",
              "    fill: var(--fill-color);\n",
              "    height: 32px;\n",
              "    padding: 0;\n",
              "    width: 32px;\n",
              "  }\n",
              "\n",
              "  .colab-df-quickchart:hover {\n",
              "    background-color: var(--hover-bg-color);\n",
              "    box-shadow: 0 1px 2px rgba(60, 64, 67, 0.3), 0 1px 3px 1px rgba(60, 64, 67, 0.15);\n",
              "    fill: var(--button-hover-fill-color);\n",
              "  }\n",
              "\n",
              "  .colab-df-quickchart-complete:disabled,\n",
              "  .colab-df-quickchart-complete:disabled:hover {\n",
              "    background-color: var(--disabled-bg-color);\n",
              "    fill: var(--disabled-fill-color);\n",
              "    box-shadow: none;\n",
              "  }\n",
              "\n",
              "  .colab-df-spinner {\n",
              "    border: 2px solid var(--fill-color);\n",
              "    border-color: transparent;\n",
              "    border-bottom-color: var(--fill-color);\n",
              "    animation:\n",
              "      spin 1s steps(1) infinite;\n",
              "  }\n",
              "\n",
              "  @keyframes spin {\n",
              "    0% {\n",
              "      border-color: transparent;\n",
              "      border-bottom-color: var(--fill-color);\n",
              "      border-left-color: var(--fill-color);\n",
              "    }\n",
              "    20% {\n",
              "      border-color: transparent;\n",
              "      border-left-color: var(--fill-color);\n",
              "      border-top-color: var(--fill-color);\n",
              "    }\n",
              "    30% {\n",
              "      border-color: transparent;\n",
              "      border-left-color: var(--fill-color);\n",
              "      border-top-color: var(--fill-color);\n",
              "      border-right-color: var(--fill-color);\n",
              "    }\n",
              "    40% {\n",
              "      border-color: transparent;\n",
              "      border-right-color: var(--fill-color);\n",
              "      border-top-color: var(--fill-color);\n",
              "    }\n",
              "    60% {\n",
              "      border-color: transparent;\n",
              "      border-right-color: var(--fill-color);\n",
              "    }\n",
              "    80% {\n",
              "      border-color: transparent;\n",
              "      border-right-color: var(--fill-color);\n",
              "      border-bottom-color: var(--fill-color);\n",
              "    }\n",
              "    90% {\n",
              "      border-color: transparent;\n",
              "      border-bottom-color: var(--fill-color);\n",
              "    }\n",
              "  }\n",
              "</style>\n",
              "\n",
              "  <script>\n",
              "    async function quickchart(key) {\n",
              "      const quickchartButtonEl =\n",
              "        document.querySelector('#' + key + ' button');\n",
              "      quickchartButtonEl.disabled = true;  // To prevent multiple clicks.\n",
              "      quickchartButtonEl.classList.add('colab-df-spinner');\n",
              "      try {\n",
              "        const charts = await google.colab.kernel.invokeFunction(\n",
              "            'suggestCharts', [key], {});\n",
              "      } catch (error) {\n",
              "        console.error('Error during call to suggestCharts:', error);\n",
              "      }\n",
              "      quickchartButtonEl.classList.remove('colab-df-spinner');\n",
              "      quickchartButtonEl.classList.add('colab-df-quickchart-complete');\n",
              "    }\n",
              "    (() => {\n",
              "      let quickchartButtonEl =\n",
              "        document.querySelector('#df-fc48c5e8-1c7e-4bc5-8ed2-f57887728380 button');\n",
              "      quickchartButtonEl.style.display =\n",
              "        google.colab.kernel.accessAllowed ? 'block' : 'none';\n",
              "    })();\n",
              "  </script>\n",
              "</div>\n",
              "\n",
              "  <div id=\"id_3031f3a0-b829-44aa-9696-af6026b147d6\">\n",
              "    <style>\n",
              "      .colab-df-generate {\n",
              "        background-color: #E8F0FE;\n",
              "        border: none;\n",
              "        border-radius: 50%;\n",
              "        cursor: pointer;\n",
              "        display: none;\n",
              "        fill: #1967D2;\n",
              "        height: 32px;\n",
              "        padding: 0 0 0 0;\n",
              "        width: 32px;\n",
              "      }\n",
              "\n",
              "      .colab-df-generate:hover {\n",
              "        background-color: #E2EBFA;\n",
              "        box-shadow: 0px 1px 2px rgba(60, 64, 67, 0.3), 0px 1px 3px 1px rgba(60, 64, 67, 0.15);\n",
              "        fill: #174EA6;\n",
              "      }\n",
              "\n",
              "      [theme=dark] .colab-df-generate {\n",
              "        background-color: #3B4455;\n",
              "        fill: #D2E3FC;\n",
              "      }\n",
              "\n",
              "      [theme=dark] .colab-df-generate:hover {\n",
              "        background-color: #434B5C;\n",
              "        box-shadow: 0px 1px 3px 1px rgba(0, 0, 0, 0.15);\n",
              "        filter: drop-shadow(0px 1px 2px rgba(0, 0, 0, 0.3));\n",
              "        fill: #FFFFFF;\n",
              "      }\n",
              "    </style>\n",
              "    <button class=\"colab-df-generate\" onclick=\"generateWithVariable('df_transposto')\"\n",
              "            title=\"Generate code using this dataframe.\"\n",
              "            style=\"display:none;\">\n",
              "\n",
              "  <svg xmlns=\"http://www.w3.org/2000/svg\" height=\"24px\"viewBox=\"0 0 24 24\"\n",
              "       width=\"24px\">\n",
              "    <path d=\"M7,19H8.4L18.45,9,17,7.55,7,17.6ZM5,21V16.75L18.45,3.32a2,2,0,0,1,2.83,0l1.4,1.43a1.91,1.91,0,0,1,.58,1.4,1.91,1.91,0,0,1-.58,1.4L9.25,21ZM18.45,9,17,7.55Zm-12,3A5.31,5.31,0,0,0,4.9,8.1,5.31,5.31,0,0,0,1,6.5,5.31,5.31,0,0,0,4.9,4.9,5.31,5.31,0,0,0,6.5,1,5.31,5.31,0,0,0,8.1,4.9,5.31,5.31,0,0,0,12,6.5,5.46,5.46,0,0,0,6.5,12Z\"/>\n",
              "  </svg>\n",
              "    </button>\n",
              "    <script>\n",
              "      (() => {\n",
              "      const buttonEl =\n",
              "        document.querySelector('#id_3031f3a0-b829-44aa-9696-af6026b147d6 button.colab-df-generate');\n",
              "      buttonEl.style.display =\n",
              "        google.colab.kernel.accessAllowed ? 'block' : 'none';\n",
              "\n",
              "      buttonEl.onclick = () => {\n",
              "        google.colab.notebook.generateWithVariable('df_transposto');\n",
              "      }\n",
              "      })();\n",
              "    </script>\n",
              "  </div>\n",
              "\n",
              "    </div>\n",
              "  </div>\n"
            ],
            "application/vnd.google.colaboratory.intrinsic+json": {
              "type": "dataframe",
              "variable_name": "df_transposto",
              "summary": "{\n  \"name\": \"df_transposto\",\n  \"rows\": 10,\n  \"fields\": [\n    {\n      \"column\": 0,\n      \"properties\": {\n        \"dtype\": \"string\",\n        \"num_unique_values\": 8,\n        \"samples\": [\n          \"Chicago Bulls\",\n          \"Dick Bavetta\",\n          \"14/06/1998\"\n        ],\n        \"semantic_type\": \"\",\n        \"description\": \"\"\n      }\n    },\n    {\n      \"column\": 1,\n      \"properties\": {\n        \"dtype\": \"string\",\n        \"num_unique_values\": 8,\n        \"samples\": [\n          \"Cavaliers\",\n          \"Mike Callahan\",\n          \"19/06/2016\"\n        ],\n        \"semantic_type\": \"\",\n        \"description\": \"\"\n      }\n    },\n    {\n      \"column\": 2,\n      \"properties\": {\n        \"dtype\": \"string\",\n        \"num_unique_values\": 7,\n        \"samples\": [\n          \"14/05/1980\",\n          \"Los Angeles Lakers\",\n          \"Joe Forte\"\n        ],\n        \"semantic_type\": \"\",\n        \"description\": \"\"\n      }\n    },\n    {\n      \"column\": 3,\n      \"properties\": {\n        \"dtype\": \"string\",\n        \"num_unique_values\": 7,\n        \"samples\": [\n          \"08/06/1986\",\n          \"Boston Celtics\",\n          \" Joe Forte\"\n        ],\n        \"semantic_type\": \"\",\n        \"description\": \"\"\n      }\n    },\n    {\n      \"column\": 4,\n      \"properties\": {\n        \"dtype\": \"string\",\n        \"num_unique_values\": 7,\n        \"samples\": [\n          \"05/05/1969\",\n          \"Los Angeles Lakers\",\n          \"Joe Forte\"\n        ],\n        \"semantic_type\": \"\",\n        \"description\": \"\"\n      }\n    },\n    {\n      \"column\": 5,\n      \"properties\": {\n        \"dtype\": \"string\",\n        \"num_unique_values\": 7,\n        \"samples\": [\n          \"04/06/1976\",\n          \"Boston Celtics\",\n          \"Richie Powers\"\n        ],\n        \"semantic_type\": \"\",\n        \"description\": \"\"\n      }\n    },\n    {\n      \"column\": 6,\n      \"properties\": {\n        \"dtype\": \"string\",\n        \"num_unique_values\": 8,\n        \"samples\": [\n          \"Los Angeles Lakers\",\n          \"Dick Bavetta\",\n          \"31/05/2002\"\n        ],\n        \"semantic_type\": \"\",\n        \"description\": \"\"\n      }\n    },\n    {\n      \"column\": 7,\n      \"properties\": {\n        \"dtype\": \"string\",\n        \"num_unique_values\": 8,\n        \"samples\": [\n          \"Miami Heats\",\n          \"Dan Crawford\",\n          \"20/06/2013\"\n        ],\n        \"semantic_type\": \"\",\n        \"description\": \"\"\n      }\n    },\n    {\n      \"column\": 8,\n      \"properties\": {\n        \"dtype\": \"string\",\n        \"num_unique_values\": 7,\n        \"samples\": [\n          \"18/04/1962\",\n          \"Boston Celtics\",\n          \"Richie Powers\"\n        ],\n        \"semantic_type\": \"\",\n        \"description\": \"\"\n      }\n    },\n    {\n      \"column\": 9,\n      \"properties\": {\n        \"dtype\": \"string\",\n        \"num_unique_values\": 7,\n        \"samples\": [\n          \"11/06/1997\",\n          \"Chicago Bulls\",\n          \"Bill Oakes\"\n        ],\n        \"semantic_type\": \"\",\n        \"description\": \"\"\n      }\n    }\n  ]\n}"
            }
          },
          "metadata": {},
          "execution_count": 44
        }
      ]
    },
    {
      "cell_type": "markdown",
      "source": [
        "### Explicando o Código"
      ],
      "metadata": {
        "id": "s1pbhV_yAnBe"
      }
    },
    {
      "cell_type": "markdown",
      "source": [
        "1. Transpor uma Coluna Específica (Exemplo: Coluna 'Vencedor'):\n",
        "\n",
        "* Aqui, estamos transpondo a coluna específica `'vencedor'` do DataFrame `jogos-df`. Primeiro, selecionamos essa coluna utilizando `jogos_df['Vencedor']`, depois convertemos em um DataFrame usando `to_frame()`, e finalmente aplicamos a transposição usando `.T`."
      ],
      "metadata": {
        "id": "LZ6a2rrJVMrL"
      }
    },
    {
      "cell_type": "code",
      "source": [
        "coluna_vencedor_transposta = jogos_df['Vencedor'].to_frame().T"
      ],
      "metadata": {
        "id": "321jgTkiB2y-"
      },
      "execution_count": null,
      "outputs": []
    },
    {
      "cell_type": "markdown",
      "source": [
        "2. Transpor Todo o DataFrame:\n",
        "\n",
        "* Se necessário, é possível transpor todo o DataFrame `jogos_df` utilizando o método `.T`. Isso trocará as linhas pelas colunas e vice-versa."
      ],
      "metadata": {
        "id": "GtOn48pZB7W-"
      }
    },
    {
      "cell_type": "code",
      "source": [
        "df_transposto = jogos_df.T"
      ],
      "metadata": {
        "id": "xStuNNFbCCnI"
      },
      "execution_count": null,
      "outputs": []
    },
    {
      "cell_type": "markdown",
      "source": [
        "### 9 - Apresente em tela somente a 1ª e a 2ª coluna (rótulo) da base de dados.\n"
      ],
      "metadata": {
        "id": "rvVg8XBR1ejO"
      }
    },
    {
      "cell_type": "code",
      "source": [
        "print(\"9) Apresente em tela somente a 1ª e a 2ª coluna (rótulo) da base de dados.\")\n",
        "#Utilizo uma variável do comando iloc, definindo as colunas que queremos alocar e apresentando-as em tela.\n",
        "print(jogos_df.loc[:, ['Data do jogo', 'Vencedor']])\n",
        "print()"
      ],
      "metadata": {
        "colab": {
          "base_uri": "https://localhost:8080/"
        },
        "id": "x7a9OqaP1i6r",
        "outputId": "0644dd5b-b93c-4e74-d8cf-d84873db7651"
      },
      "execution_count": null,
      "outputs": [
        {
          "output_type": "stream",
          "name": "stdout",
          "text": [
            "9) Apresente em tela somente a 1ª e a 2ª coluna (rótulo) da base de dados.\n",
            "  Data do jogo            Vencedor\n",
            "0   14/06/1998       Chicago Bulls\n",
            "1   19/06/2016           Cavaliers\n",
            "2   14/05/1980  Los Angeles Lakers\n",
            "3   08/06/1986      Boston Celtics\n",
            "4   05/05/1969  Los Angeles Lakers\n",
            "5   04/06/1976      Boston Celtics\n",
            "6   31/05/2002  Los Angeles Lakers\n",
            "7   20/06/2013         Miami Heats\n",
            "8   18/04/1962      Boston Celtics\n",
            "9   11/06/1997       Chicago Bulls\n",
            "\n"
          ]
        }
      ]
    },
    {
      "cell_type": "markdown",
      "source": [
        "### Explicando o Código"
      ],
      "metadata": {
        "id": "Czh3HIr7CLJF"
      }
    },
    {
      "cell_type": "markdown",
      "source": [
        "1. Selecionar e Exibir Apenas a 1ª e 2ª Coluna:\n",
        "\n",
        "* Aqui, estamos selecionando apenas as colunas `'Data do Jogo'` e `'Vencedor'` do DataFrame `jogos_df` utilizando a notação de lista dupla `[:, ['Data do jogo', 'Vencedor']]` a partir da função `loc`, que é uma variação da função `iloc`.\n"
      ],
      "metadata": {
        "id": "KB3lJx5gW-9y"
      }
    },
    {
      "cell_type": "code",
      "source": [
        "print(jogos_df.loc[:, ['Data do jogo', 'Vencedor']])"
      ],
      "metadata": {
        "id": "mcALkxSMCiAF"
      },
      "execution_count": null,
      "outputs": []
    },
    {
      "cell_type": "markdown",
      "source": [
        "### 10 - Informe como foi desenvolvido o Projeto"
      ],
      "metadata": {
        "id": "GkAet_MtYmgM"
      }
    },
    {
      "cell_type": "markdown",
      "source": [
        "O foco deste projeto foi criar e manipular um DataFrame usando a biblioteca Pandas em Python. Com o Tema escolhido sendo 10 melhores jogos de basquete na historia da NBA, foram coletados dados relevantes incluindo informações como data de jogo, vencedores, o nome dos times e suas devidas pontuaçoes e outras informações importantes como o nome do arbitro principal do jogo e numero de vezes em que o jogo estava empatado e a quantidade de vezes em que houve diferença de liderança.\n",
        "\n",
        "Primeiro, criei listas com esses dados e as agrupei em um dicionário. Cada chave do dicionário representa uma característica de uma partida. Em seguida, utilizamos esse dicionário para criar um DataFrame, que é uma estrutura de dados bidimensional com rótulos para linhas e colunas, fornecida pela biblioteca Pandas.\n",
        "\n",
        "Durante o projeto, apliquei várias operações ao DataFrame para responder às perguntas propostas. Utilizamos comandos específicos do Pandas, como shape para obter o tamanho do DataFrame, iloc para acessar linhas específicas, empty para verificar se o DataFrame estava vazio, head para mostrar os primeiros registros e drop para excluir uma linha.\n",
        "\n",
        "Além disso, realizei a transposição do DataFrame usando o método T, que troca linhas por colunas, e acessei colunas específicas com loc. Cada comando foi escolhido para demonstrar diferentes manipulações possíveis em um DataFrame, facilitando a compreensão e análise dos dados.\n",
        "\n",
        "O desenvolvimento do projeto também envolveu a explicação do que foi feito, usando o conhecimento que adquiri para explicar como aplicar corretamente os comandos e representar os dados de forma clara e precisa. Pesquisas adicionais e testes práticos foram necessários. No final, o projeto proporcionou uma boa compreensão da manipulação de dados com Pandas e mostrou como trabalhar eficientemente com dados de jogos de basquete."
      ],
      "metadata": {
        "id": "QklKad9uYvpQ"
      }
    }
  ]
}